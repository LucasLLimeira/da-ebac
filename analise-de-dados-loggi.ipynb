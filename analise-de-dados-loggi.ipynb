{
 "cells": [
  {
   "cell_type": "markdown",
   "id": "691efe1c",
   "metadata": {
    "id": "KJqp9AANOCtf",
    "papermill": {
     "duration": 0.020866,
     "end_time": "2023-11-10T13:00:59.315182",
     "exception": false,
     "start_time": "2023-11-10T13:00:59.294316",
     "status": "completed"
    },
    "tags": []
   },
   "source": [
    "<img src=\"https://raw.githubusercontent.com/andre-marcos-perez/ebac-course-utils/main/media/logo/newebac_logo_black_half.png\" alt=\"ebac-logo\">\n"
   ]
  },
  {
   "cell_type": "markdown",
   "id": "174894e1",
   "metadata": {
    "id": "SmoHgt-lwkpD",
    "papermill": {
     "duration": 0.015272,
     "end_time": "2023-11-10T13:00:59.346478",
     "exception": false,
     "start_time": "2023-11-10T13:00:59.331206",
     "status": "completed"
    },
    "tags": []
   },
   "source": [
    "---"
   ]
  },
  {
   "cell_type": "markdown",
   "id": "6a362d54",
   "metadata": {
    "id": "QRcqbpLpFK5o",
    "papermill": {
     "duration": 0.016368,
     "end_time": "2023-11-10T13:00:59.378862",
     "exception": false,
     "start_time": "2023-11-10T13:00:59.362494",
     "status": "completed"
    },
    "tags": []
   },
   "source": [
    "# **Análise Exploratória de Dados de Logística**"
   ]
  },
  {
   "cell_type": "markdown",
   "id": "b1289c4c",
   "metadata": {
    "id": "6-CvdKwqFPiW",
    "papermill": {
     "duration": 0.018279,
     "end_time": "2023-11-10T13:00:59.416827",
     "exception": false,
     "start_time": "2023-11-10T13:00:59.398548",
     "status": "completed"
    },
    "tags": []
   },
   "source": [
    "## 1\\. Contexto"
   ]
  },
  {
   "cell_type": "markdown",
   "id": "c5036180",
   "metadata": {
    "id": "XRURE1uUFXGw",
    "papermill": {
     "duration": 0.015479,
     "end_time": "2023-11-10T13:00:59.448761",
     "exception": false,
     "start_time": "2023-11-10T13:00:59.433282",
     "status": "completed"
    },
    "tags": []
   },
   "source": [
    "Projeto de Análise Exploratória, completo, de informações logísticas da Startup Loggi, geração de visualizações gráficas e retirada de insights sobre a situação no Distrito Federal."
   ]
  },
  {
   "cell_type": "markdown",
   "id": "4b43b67f",
   "metadata": {
    "id": "QxukLHaqFnkU",
    "papermill": {
     "duration": 0.015551,
     "end_time": "2023-11-10T13:00:59.481059",
     "exception": false,
     "start_time": "2023-11-10T13:00:59.465508",
     "status": "completed"
    },
    "tags": []
   },
   "source": [
    "## 2\\. Pacotes e bibliotecas"
   ]
  },
  {
   "cell_type": "code",
   "execution_count": 1,
   "id": "b17fdf66",
   "metadata": {
    "execution": {
     "iopub.execute_input": "2023-11-10T13:00:59.515546Z",
     "iopub.status.busy": "2023-11-10T13:00:59.514985Z",
     "iopub.status.idle": "2023-11-10T13:01:18.452745Z",
     "shell.execute_reply": "2023-11-10T13:01:18.451364Z"
    },
    "id": "VXUEW0VrF7XW",
    "outputId": "aee49809-a8bc-4c9d-e8e3-f36e09fcf669",
    "papermill": {
     "duration": 18.959184,
     "end_time": "2023-11-10T13:01:18.456063",
     "exception": false,
     "start_time": "2023-11-10T13:00:59.496879",
     "status": "completed"
    },
    "tags": []
   },
   "outputs": [
    {
     "name": "stdout",
     "output_type": "stream",
     "text": [
      "Requirement already satisfied: geopandas in /opt/conda/lib/python3.10/site-packages (0.14.0)\r\n",
      "Requirement already satisfied: fiona>=1.8.21 in /opt/conda/lib/python3.10/site-packages (from geopandas) (1.9.5)\r\n",
      "Requirement already satisfied: packaging in /opt/conda/lib/python3.10/site-packages (from geopandas) (21.3)\r\n",
      "Requirement already satisfied: pandas>=1.4.0 in /opt/conda/lib/python3.10/site-packages (from geopandas) (2.0.3)\r\n",
      "Requirement already satisfied: pyproj>=3.3.0 in /opt/conda/lib/python3.10/site-packages (from geopandas) (3.6.1)\r\n",
      "Requirement already satisfied: shapely>=1.8.0 in /opt/conda/lib/python3.10/site-packages (from geopandas) (1.8.5.post1)\r\n",
      "Requirement already satisfied: attrs>=19.2.0 in /opt/conda/lib/python3.10/site-packages (from fiona>=1.8.21->geopandas) (23.1.0)\r\n",
      "Requirement already satisfied: certifi in /opt/conda/lib/python3.10/site-packages (from fiona>=1.8.21->geopandas) (2023.7.22)\r\n",
      "Requirement already satisfied: click~=8.0 in /opt/conda/lib/python3.10/site-packages (from fiona>=1.8.21->geopandas) (8.1.7)\r\n",
      "Requirement already satisfied: click-plugins>=1.0 in /opt/conda/lib/python3.10/site-packages (from fiona>=1.8.21->geopandas) (1.1.1)\r\n",
      "Requirement already satisfied: cligj>=0.5 in /opt/conda/lib/python3.10/site-packages (from fiona>=1.8.21->geopandas) (0.7.2)\r\n",
      "Requirement already satisfied: six in /opt/conda/lib/python3.10/site-packages (from fiona>=1.8.21->geopandas) (1.16.0)\r\n",
      "Requirement already satisfied: setuptools in /opt/conda/lib/python3.10/site-packages (from fiona>=1.8.21->geopandas) (68.1.2)\r\n",
      "Requirement already satisfied: python-dateutil>=2.8.2 in /opt/conda/lib/python3.10/site-packages (from pandas>=1.4.0->geopandas) (2.8.2)\r\n",
      "Requirement already satisfied: pytz>=2020.1 in /opt/conda/lib/python3.10/site-packages (from pandas>=1.4.0->geopandas) (2023.3)\r\n",
      "Requirement already satisfied: tzdata>=2022.1 in /opt/conda/lib/python3.10/site-packages (from pandas>=1.4.0->geopandas) (2023.3)\r\n",
      "Requirement already satisfied: numpy>=1.21.0 in /opt/conda/lib/python3.10/site-packages (from pandas>=1.4.0->geopandas) (1.24.3)\r\n",
      "Requirement already satisfied: pyparsing!=3.0.5,>=2.0.2 in /opt/conda/lib/python3.10/site-packages (from packaging->geopandas) (3.0.9)\r\n"
     ]
    }
   ],
   "source": [
    "# instalando e importando todas as  bibliotecas utilizadas\n",
    "\n",
    "!pip3 install geopandas\n",
    "\n",
    "import json\n",
    "\n",
    "import pandas as pd\n",
    "import numpy as np\n",
    "import geopandas\n",
    "import matplotlib.pyplot as plt\n",
    "import geopy\n",
    "from geopy.geocoders import Nominatim\n",
    "from geopy.extra.rate_limiter import RateLimiter\n",
    "import seaborn as sns"
   ]
  },
  {
   "cell_type": "markdown",
   "id": "7820cb94",
   "metadata": {
    "id": "irQxHW1zGkdZ",
    "papermill": {
     "duration": 0.015951,
     "end_time": "2023-11-10T13:01:18.489083",
     "exception": false,
     "start_time": "2023-11-10T13:01:18.473132",
     "status": "completed"
    },
    "tags": []
   },
   "source": [
    "## 3\\. Exploração de dados"
   ]
  },
  {
   "cell_type": "code",
   "execution_count": 2,
   "id": "f06a30c0",
   "metadata": {
    "execution": {
     "iopub.execute_input": "2023-11-10T13:01:18.525839Z",
     "iopub.status.busy": "2023-11-10T13:01:18.523981Z",
     "iopub.status.idle": "2023-11-10T13:01:25.590131Z",
     "shell.execute_reply": "2023-11-10T13:01:25.588536Z"
    },
    "id": "lxLj8e0GHAnr",
    "papermill": {
     "duration": 7.087904,
     "end_time": "2023-11-10T13:01:25.593648",
     "exception": false,
     "start_time": "2023-11-10T13:01:18.505744",
     "status": "completed"
    },
    "tags": []
   },
   "outputs": [],
   "source": [
    "#Importando os dados que foram disponíveis pela loggi\n",
    "!wget -q \"https://raw.githubusercontent.com/andre-marcos-perez/ebac-course-utils/main/dataset/deliveries.json\" -O deliveries.json\n",
    "\n",
    "with open('deliveries.json', mode='r', encoding='utf8') as file:\n",
    "    data = json.load(file)"
   ]
  },
  {
   "cell_type": "code",
   "execution_count": 3,
   "id": "4851a013",
   "metadata": {
    "execution": {
     "iopub.execute_input": "2023-11-10T13:01:25.629817Z",
     "iopub.status.busy": "2023-11-10T13:01:25.628547Z",
     "iopub.status.idle": "2023-11-10T13:01:27.516724Z",
     "shell.execute_reply": "2023-11-10T13:01:27.515455Z"
    },
    "id": "VoWlIRiwLnzK",
    "outputId": "b995f47e-5f9b-4f8e-de1a-d394399163fe",
    "papermill": {
     "duration": 1.909778,
     "end_time": "2023-11-10T13:01:27.520064",
     "exception": false,
     "start_time": "2023-11-10T13:01:25.610286",
     "status": "completed"
    },
    "tags": []
   },
   "outputs": [
    {
     "data": {
      "text/html": [
       "<div>\n",
       "<style scoped>\n",
       "    .dataframe tbody tr th:only-of-type {\n",
       "        vertical-align: middle;\n",
       "    }\n",
       "\n",
       "    .dataframe tbody tr th {\n",
       "        vertical-align: top;\n",
       "    }\n",
       "\n",
       "    .dataframe thead th {\n",
       "        text-align: right;\n",
       "    }\n",
       "</style>\n",
       "<table border=\"1\" class=\"dataframe\">\n",
       "  <thead>\n",
       "    <tr style=\"text-align: right;\">\n",
       "      <th></th>\n",
       "      <th>name</th>\n",
       "      <th>region</th>\n",
       "      <th>hub_lng</th>\n",
       "      <th>hub_lat</th>\n",
       "      <th>vehicle_capacity</th>\n",
       "      <th>delivery_id</th>\n",
       "      <th>delivery_size</th>\n",
       "      <th>delivery_lng</th>\n",
       "      <th>delivery_lat</th>\n",
       "    </tr>\n",
       "  </thead>\n",
       "  <tbody>\n",
       "    <tr>\n",
       "      <th>0</th>\n",
       "      <td>cvrp-2-df-33</td>\n",
       "      <td>df-2</td>\n",
       "      <td>-48.054989</td>\n",
       "      <td>-15.838145</td>\n",
       "      <td>180</td>\n",
       "      <td>313483a19d2f8d65cd5024c8d215cfbd</td>\n",
       "      <td>9</td>\n",
       "      <td>-48.116189</td>\n",
       "      <td>-15.848929</td>\n",
       "    </tr>\n",
       "    <tr>\n",
       "      <th>1</th>\n",
       "      <td>cvrp-2-df-33</td>\n",
       "      <td>df-2</td>\n",
       "      <td>-48.054989</td>\n",
       "      <td>-15.838145</td>\n",
       "      <td>180</td>\n",
       "      <td>320c94b17aa685c939b3f3244c3099de</td>\n",
       "      <td>2</td>\n",
       "      <td>-48.118195</td>\n",
       "      <td>-15.850772</td>\n",
       "    </tr>\n",
       "    <tr>\n",
       "      <th>2</th>\n",
       "      <td>cvrp-2-df-33</td>\n",
       "      <td>df-2</td>\n",
       "      <td>-48.054989</td>\n",
       "      <td>-15.838145</td>\n",
       "      <td>180</td>\n",
       "      <td>3663b42f4b8decb33059febaba46d5c8</td>\n",
       "      <td>1</td>\n",
       "      <td>-48.112483</td>\n",
       "      <td>-15.847871</td>\n",
       "    </tr>\n",
       "    <tr>\n",
       "      <th>3</th>\n",
       "      <td>cvrp-2-df-33</td>\n",
       "      <td>df-2</td>\n",
       "      <td>-48.054989</td>\n",
       "      <td>-15.838145</td>\n",
       "      <td>180</td>\n",
       "      <td>e11ab58363c38d6abc90d5fba87b7d7</td>\n",
       "      <td>2</td>\n",
       "      <td>-48.118023</td>\n",
       "      <td>-15.846471</td>\n",
       "    </tr>\n",
       "    <tr>\n",
       "      <th>4</th>\n",
       "      <td>cvrp-2-df-33</td>\n",
       "      <td>df-2</td>\n",
       "      <td>-48.054989</td>\n",
       "      <td>-15.838145</td>\n",
       "      <td>180</td>\n",
       "      <td>54cb45b7bbbd4e34e7150900f92d7f4b</td>\n",
       "      <td>7</td>\n",
       "      <td>-48.114898</td>\n",
       "      <td>-15.858055</td>\n",
       "    </tr>\n",
       "  </tbody>\n",
       "</table>\n",
       "</div>"
      ],
      "text/plain": [
       "           name region    hub_lng    hub_lat  vehicle_capacity  \\\n",
       "0  cvrp-2-df-33   df-2 -48.054989 -15.838145               180   \n",
       "1  cvrp-2-df-33   df-2 -48.054989 -15.838145               180   \n",
       "2  cvrp-2-df-33   df-2 -48.054989 -15.838145               180   \n",
       "3  cvrp-2-df-33   df-2 -48.054989 -15.838145               180   \n",
       "4  cvrp-2-df-33   df-2 -48.054989 -15.838145               180   \n",
       "\n",
       "                        delivery_id  delivery_size  delivery_lng  delivery_lat  \n",
       "0  313483a19d2f8d65cd5024c8d215cfbd              9    -48.116189    -15.848929  \n",
       "1  320c94b17aa685c939b3f3244c3099de              2    -48.118195    -15.850772  \n",
       "2  3663b42f4b8decb33059febaba46d5c8              1    -48.112483    -15.847871  \n",
       "3   e11ab58363c38d6abc90d5fba87b7d7              2    -48.118023    -15.846471  \n",
       "4  54cb45b7bbbd4e34e7150900f92d7f4b              7    -48.114898    -15.858055  "
      ]
     },
     "execution_count": 3,
     "metadata": {},
     "output_type": "execute_result"
    }
   ],
   "source": [
    "# colocando o dado bruto em um dataframe do pandas\n",
    "deliveries_df = pd.DataFrame(data)\n",
    "\n",
    "# Separando os itens contidos no \"origin\" para ficar mais facil a utilização e a visulização\n",
    "hub_origin_df = pd.json_normalize(deliveries_df['origin'])\n",
    "deliveries_df = pd.merge(left=deliveries_df, right=hub_origin_df, how='inner', left_index=True, right_index=True)\n",
    "deliveries_df = deliveries_df.drop('origin', axis=1)\n",
    "deliveries_df = deliveries_df[['name', 'region', 'lng', 'lat', 'vehicle_capacity', 'deliveries']]\n",
    "deliveries_df.rename(columns={'lng': 'hub_lng', 'lat': 'hub_lat'}, inplace=True)\n",
    "\n",
    "#Fazendo o mesmo procedimento com o \"deliveries\"\n",
    "deliveries_exploded_df = deliveries_df[['deliveries']].explode('deliveries')\n",
    "deliveries_normalized_df = pd.concat([\n",
    "    pd.DataFrame(deliveries_exploded_df['deliveries'].apply(lambda record: record['id'])).rename(columns={'deliveries': 'delivery_id'}),\n",
    "    pd.DataFrame(deliveries_exploded_df['deliveries'].apply(lambda record: record['size'])).rename(columns={'deliveries': 'delivery_size'}),\n",
    "    pd.DataFrame(deliveries_exploded_df['deliveries'].apply(lambda record: record['point']['lng'])).rename(columns={'deliveries': 'delivery_lng'}),\n",
    "    pd.DataFrame(deliveries_exploded_df['deliveries'].apply(lambda record: record['point']['lat'])).rename(columns={'deliveries': 'delivery_lat'}),\n",
    "], axis=1)\n",
    "deliveries_df = deliveries_df.drop('deliveries', axis=1)\n",
    "deliveries_df = pd.merge(left=deliveries_df, right=deliveries_normalized_df, how='right', left_index=True, right_index=True)\n",
    "deliveries_df.reset_index(inplace=True, drop=True)\n",
    "\n",
    "deliveries_df.head()"
   ]
  },
  {
   "cell_type": "markdown",
   "id": "89be28cd",
   "metadata": {
    "id": "9inUMQG6Dhte",
    "papermill": {
     "duration": 0.016367,
     "end_time": "2023-11-10T13:01:27.553095",
     "exception": false,
     "start_time": "2023-11-10T13:01:27.536728",
     "status": "completed"
    },
    "tags": []
   },
   "source": [
    "3.1 Conferência dos dados"
   ]
  },
  {
   "cell_type": "code",
   "execution_count": 4,
   "id": "ca8a8aad",
   "metadata": {
    "execution": {
     "iopub.execute_input": "2023-11-10T13:01:27.687383Z",
     "iopub.status.busy": "2023-11-10T13:01:27.686331Z",
     "iopub.status.idle": "2023-11-10T13:01:27.696792Z",
     "shell.execute_reply": "2023-11-10T13:01:27.695373Z"
    },
    "id": "S76hcaVrLuSz",
    "outputId": "51253ed3-1b7a-4474-f769-f2d90bd7247b",
    "papermill": {
     "duration": 0.129786,
     "end_time": "2023-11-10T13:01:27.699649",
     "exception": false,
     "start_time": "2023-11-10T13:01:27.569863",
     "status": "completed"
    },
    "tags": []
   },
   "outputs": [
    {
     "data": {
      "text/plain": [
       "name                 object\n",
       "region               object\n",
       "hub_lng             float64\n",
       "hub_lat             float64\n",
       "vehicle_capacity      int64\n",
       "delivery_id          object\n",
       "delivery_size         int64\n",
       "delivery_lng        float64\n",
       "delivery_lat        float64\n",
       "dtype: object"
      ]
     },
     "execution_count": 4,
     "metadata": {},
     "output_type": "execute_result"
    }
   ],
   "source": [
    "# conferindo se os tipos correspondem ao desejado\n",
    "deliveries_df.dtypes"
   ]
  },
  {
   "cell_type": "code",
   "execution_count": 5,
   "id": "0cfaf5c4",
   "metadata": {
    "execution": {
     "iopub.execute_input": "2023-11-10T13:01:27.736575Z",
     "iopub.status.busy": "2023-11-10T13:01:27.735316Z",
     "iopub.status.idle": "2023-11-10T13:01:28.987753Z",
     "shell.execute_reply": "2023-11-10T13:01:28.986705Z"
    },
    "id": "y9j9MunQLwnv",
    "outputId": "c1c8e297-817f-40c4-bd45-6e738133960f",
    "papermill": {
     "duration": 1.274038,
     "end_time": "2023-11-10T13:01:28.990800",
     "exception": false,
     "start_time": "2023-11-10T13:01:27.716762",
     "status": "completed"
    },
    "tags": []
   },
   "outputs": [
    {
     "data": {
      "text/html": [
       "<div>\n",
       "<style scoped>\n",
       "    .dataframe tbody tr th:only-of-type {\n",
       "        vertical-align: middle;\n",
       "    }\n",
       "\n",
       "    .dataframe tbody tr th {\n",
       "        vertical-align: top;\n",
       "    }\n",
       "\n",
       "    .dataframe thead th {\n",
       "        text-align: right;\n",
       "    }\n",
       "</style>\n",
       "<table border=\"1\" class=\"dataframe\">\n",
       "  <thead>\n",
       "    <tr style=\"text-align: right;\">\n",
       "      <th></th>\n",
       "      <th>count</th>\n",
       "      <th>unique</th>\n",
       "      <th>top</th>\n",
       "      <th>freq</th>\n",
       "    </tr>\n",
       "  </thead>\n",
       "  <tbody>\n",
       "    <tr>\n",
       "      <th>name</th>\n",
       "      <td>636149</td>\n",
       "      <td>199</td>\n",
       "      <td>cvrp-1-df-87</td>\n",
       "      <td>5636</td>\n",
       "    </tr>\n",
       "    <tr>\n",
       "      <th>region</th>\n",
       "      <td>636149</td>\n",
       "      <td>3</td>\n",
       "      <td>df-1</td>\n",
       "      <td>304708</td>\n",
       "    </tr>\n",
       "    <tr>\n",
       "      <th>delivery_id</th>\n",
       "      <td>636149</td>\n",
       "      <td>291566</td>\n",
       "      <td>61b87669243974d021c2b76fc5272045</td>\n",
       "      <td>12</td>\n",
       "    </tr>\n",
       "  </tbody>\n",
       "</table>\n",
       "</div>"
      ],
      "text/plain": [
       "              count  unique                               top    freq\n",
       "name         636149     199                      cvrp-1-df-87    5636\n",
       "region       636149       3                              df-1  304708\n",
       "delivery_id  636149  291566  61b87669243974d021c2b76fc5272045      12"
      ]
     },
     "execution_count": 5,
     "metadata": {},
     "output_type": "execute_result"
    }
   ],
   "source": [
    "# conferindo se a contagem bate em relação aos 3 itens\n",
    "deliveries_df.select_dtypes('object').describe().transpose()"
   ]
  },
  {
   "cell_type": "code",
   "execution_count": 6,
   "id": "ef1440a2",
   "metadata": {
    "execution": {
     "iopub.execute_input": "2023-11-10T13:01:29.028260Z",
     "iopub.status.busy": "2023-11-10T13:01:29.027743Z",
     "iopub.status.idle": "2023-11-10T13:01:29.244410Z",
     "shell.execute_reply": "2023-11-10T13:01:29.243129Z"
    },
    "id": "W8tcansHL0VM",
    "outputId": "20a85c35-0f9f-4c6e-ed4e-d9b3014ff861",
    "papermill": {
     "duration": 0.23915,
     "end_time": "2023-11-10T13:01:29.247584",
     "exception": false,
     "start_time": "2023-11-10T13:01:29.008434",
     "status": "completed"
    },
    "tags": []
   },
   "outputs": [
    {
     "data": {
      "text/plain": [
       "name                False\n",
       "region              False\n",
       "hub_lng             False\n",
       "hub_lat             False\n",
       "vehicle_capacity    False\n",
       "delivery_id         False\n",
       "delivery_size       False\n",
       "delivery_lng        False\n",
       "delivery_lat        False\n",
       "dtype: bool"
      ]
     },
     "execution_count": 6,
     "metadata": {},
     "output_type": "execute_result"
    }
   ],
   "source": [
    "#Conferindo se há valores nulos\n",
    "deliveries_df.isna().any()"
   ]
  },
  {
   "cell_type": "markdown",
   "id": "6d391b34",
   "metadata": {
    "id": "98hexQTyJS9I",
    "papermill": {
     "duration": 0.01775,
     "end_time": "2023-11-10T13:01:29.284890",
     "exception": false,
     "start_time": "2023-11-10T13:01:29.267140",
     "status": "completed"
    },
    "tags": []
   },
   "source": [
    "## 4\\. Manipulação"
   ]
  },
  {
   "cell_type": "markdown",
   "id": "a64eb7cf",
   "metadata": {
    "id": "hJaskXOtHuDc",
    "papermill": {
     "duration": 0.017152,
     "end_time": "2023-11-10T13:01:29.319561",
     "exception": false,
     "start_time": "2023-11-10T13:01:29.302409",
     "status": "completed"
    },
    "tags": []
   },
   "source": [
    "4.1 Enriquecimento de dados"
   ]
  },
  {
   "cell_type": "code",
   "execution_count": 7,
   "id": "97eaeb24",
   "metadata": {
    "execution": {
     "iopub.execute_input": "2023-11-10T13:01:29.357617Z",
     "iopub.status.busy": "2023-11-10T13:01:29.357142Z",
     "iopub.status.idle": "2023-11-10T13:01:29.481548Z",
     "shell.execute_reply": "2023-11-10T13:01:29.480322Z"
    },
    "id": "DXU4Ee0QJS9Q",
    "outputId": "b46d3b05-4ee3-4722-a290-440659858101",
    "papermill": {
     "duration": 0.147271,
     "end_time": "2023-11-10T13:01:29.484442",
     "exception": false,
     "start_time": "2023-11-10T13:01:29.337171",
     "status": "completed"
    },
    "tags": []
   },
   "outputs": [
    {
     "data": {
      "text/html": [
       "<div>\n",
       "<style scoped>\n",
       "    .dataframe tbody tr th:only-of-type {\n",
       "        vertical-align: middle;\n",
       "    }\n",
       "\n",
       "    .dataframe tbody tr th {\n",
       "        vertical-align: top;\n",
       "    }\n",
       "\n",
       "    .dataframe thead th {\n",
       "        text-align: right;\n",
       "    }\n",
       "</style>\n",
       "<table border=\"1\" class=\"dataframe\">\n",
       "  <thead>\n",
       "    <tr style=\"text-align: right;\">\n",
       "      <th></th>\n",
       "      <th>region</th>\n",
       "      <th>hub_lng</th>\n",
       "      <th>hub_lat</th>\n",
       "    </tr>\n",
       "  </thead>\n",
       "  <tbody>\n",
       "    <tr>\n",
       "      <th>0</th>\n",
       "      <td>df-0</td>\n",
       "      <td>-47.802665</td>\n",
       "      <td>-15.657014</td>\n",
       "    </tr>\n",
       "    <tr>\n",
       "      <th>1</th>\n",
       "      <td>df-1</td>\n",
       "      <td>-47.893662</td>\n",
       "      <td>-15.805118</td>\n",
       "    </tr>\n",
       "    <tr>\n",
       "      <th>2</th>\n",
       "      <td>df-2</td>\n",
       "      <td>-48.054989</td>\n",
       "      <td>-15.838145</td>\n",
       "    </tr>\n",
       "  </tbody>\n",
       "</table>\n",
       "</div>"
      ],
      "text/plain": [
       "  region    hub_lng    hub_lat\n",
       "0   df-0 -47.802665 -15.657014\n",
       "1   df-1 -47.893662 -15.805118\n",
       "2   df-2 -48.054989 -15.838145"
      ]
     },
     "execution_count": 7,
     "metadata": {},
     "output_type": "execute_result"
    }
   ],
   "source": [
    "#Criando outro dataframe para enriquecer os dados disponíveis com o 'geopandas'\n",
    "hub_df = deliveries_df[[\"region\", \"hub_lng\", \"hub_lat\"]]\n",
    "hub_df = hub_df.drop_duplicates().sort_values(by=\"region\").reset_index(drop=True)\n",
    "hub_df.head()\n"
   ]
  },
  {
   "cell_type": "code",
   "execution_count": 8,
   "id": "c38ebc66",
   "metadata": {
    "execution": {
     "iopub.execute_input": "2023-11-10T13:01:29.524256Z",
     "iopub.status.busy": "2023-11-10T13:01:29.522653Z",
     "iopub.status.idle": "2023-11-10T13:01:29.549998Z",
     "shell.execute_reply": "2023-11-10T13:01:29.548540Z"
    },
    "id": "5ssMYIJ4Mby-",
    "papermill": {
     "duration": 0.0508,
     "end_time": "2023-11-10T13:01:29.553137",
     "exception": false,
     "start_time": "2023-11-10T13:01:29.502337",
     "status": "completed"
    },
    "tags": []
   },
   "outputs": [],
   "source": [
    "geolocator = Nominatim(user_agent=\"ebac_geocoder\")"
   ]
  },
  {
   "cell_type": "code",
   "execution_count": 9,
   "id": "abd8053d",
   "metadata": {
    "execution": {
     "iopub.execute_input": "2023-11-10T13:01:29.592116Z",
     "iopub.status.busy": "2023-11-10T13:01:29.591231Z",
     "iopub.status.idle": "2023-11-10T13:01:29.597267Z",
     "shell.execute_reply": "2023-11-10T13:01:29.596006Z"
    },
    "id": "ay6tY2hRMfpk",
    "papermill": {
     "duration": 0.028572,
     "end_time": "2023-11-10T13:01:29.600092",
     "exception": false,
     "start_time": "2023-11-10T13:01:29.571520",
     "status": "completed"
    },
    "tags": []
   },
   "outputs": [],
   "source": [
    "#colocando um limitador para não extrapolar o tempo mínimo que o 'Nominatim' pede\n",
    "geocoder = RateLimiter(geolocator.reverse, min_delay_seconds=1)"
   ]
  },
  {
   "cell_type": "code",
   "execution_count": 10,
   "id": "61918f6d",
   "metadata": {
    "execution": {
     "iopub.execute_input": "2023-11-10T13:01:29.638332Z",
     "iopub.status.busy": "2023-11-10T13:01:29.637689Z",
     "iopub.status.idle": "2023-11-10T13:01:31.717547Z",
     "shell.execute_reply": "2023-11-10T13:01:31.716151Z"
    },
    "id": "Nzcbrz7eMhRJ",
    "outputId": "f31b09a8-731e-41da-fb15-e9a4f11401b3",
    "papermill": {
     "duration": 2.103065,
     "end_time": "2023-11-10T13:01:31.720937",
     "exception": false,
     "start_time": "2023-11-10T13:01:29.617872",
     "status": "completed"
    },
    "tags": []
   },
   "outputs": [
    {
     "data": {
      "text/html": [
       "<div>\n",
       "<style scoped>\n",
       "    .dataframe tbody tr th:only-of-type {\n",
       "        vertical-align: middle;\n",
       "    }\n",
       "\n",
       "    .dataframe tbody tr th {\n",
       "        vertical-align: top;\n",
       "    }\n",
       "\n",
       "    .dataframe thead th {\n",
       "        text-align: right;\n",
       "    }\n",
       "</style>\n",
       "<table border=\"1\" class=\"dataframe\">\n",
       "  <thead>\n",
       "    <tr style=\"text-align: right;\">\n",
       "      <th></th>\n",
       "      <th>region</th>\n",
       "      <th>hub_lng</th>\n",
       "      <th>hub_lat</th>\n",
       "      <th>coordinates</th>\n",
       "      <th>geodata</th>\n",
       "    </tr>\n",
       "  </thead>\n",
       "  <tbody>\n",
       "    <tr>\n",
       "      <th>0</th>\n",
       "      <td>df-0</td>\n",
       "      <td>-47.802665</td>\n",
       "      <td>-15.657014</td>\n",
       "      <td>-15.657013854445248, -47.802664728268745</td>\n",
       "      <td>(Rua 7, Quadra 2, Sobradinho, Região Geográfic...</td>\n",
       "    </tr>\n",
       "    <tr>\n",
       "      <th>1</th>\n",
       "      <td>df-1</td>\n",
       "      <td>-47.893662</td>\n",
       "      <td>-15.805118</td>\n",
       "      <td>-15.80511751066334, -47.89366206897872</td>\n",
       "      <td>(SQS 303, Asa Sul, Brasília, Plano Piloto, Reg...</td>\n",
       "    </tr>\n",
       "    <tr>\n",
       "      <th>2</th>\n",
       "      <td>df-2</td>\n",
       "      <td>-48.054989</td>\n",
       "      <td>-15.838145</td>\n",
       "      <td>-15.83814451122274, -48.05498915846707</td>\n",
       "      <td>(Armazém do Bolo, lote 4/8, CSB 4/5, Taguating...</td>\n",
       "    </tr>\n",
       "  </tbody>\n",
       "</table>\n",
       "</div>"
      ],
      "text/plain": [
       "  region    hub_lng    hub_lat                               coordinates  \\\n",
       "0   df-0 -47.802665 -15.657014  -15.657013854445248, -47.802664728268745   \n",
       "1   df-1 -47.893662 -15.805118    -15.80511751066334, -47.89366206897872   \n",
       "2   df-2 -48.054989 -15.838145    -15.83814451122274, -48.05498915846707   \n",
       "\n",
       "                                             geodata  \n",
       "0  (Rua 7, Quadra 2, Sobradinho, Região Geográfic...  \n",
       "1  (SQS 303, Asa Sul, Brasília, Plano Piloto, Reg...  \n",
       "2  (Armazém do Bolo, lote 4/8, CSB 4/5, Taguating...  "
      ]
     },
     "execution_count": 10,
     "metadata": {},
     "output_type": "execute_result"
    }
   ],
   "source": [
    "#obtendo as informações a partir das coordenadas\n",
    "hub_df[\"coordinates\"] = hub_df[\"hub_lat\"].astype(str)  + \", \" + hub_df[\"hub_lng\"].astype(str)\n",
    "hub_df[\"geodata\"] = hub_df[\"coordinates\"].apply(geocoder)\n",
    "hub_df.head()"
   ]
  },
  {
   "cell_type": "code",
   "execution_count": 11,
   "id": "f1b5d972",
   "metadata": {
    "execution": {
     "iopub.execute_input": "2023-11-10T13:01:31.760430Z",
     "iopub.status.busy": "2023-11-10T13:01:31.759207Z",
     "iopub.status.idle": "2023-11-10T13:01:31.790184Z",
     "shell.execute_reply": "2023-11-10T13:01:31.788593Z"
    },
    "id": "dcv0McQMMsTO",
    "outputId": "56953ff9-a328-49e4-e9fb-bf00efccc0f6",
    "papermill": {
     "duration": 0.053951,
     "end_time": "2023-11-10T13:01:31.793114",
     "exception": false,
     "start_time": "2023-11-10T13:01:31.739163",
     "status": "completed"
    },
    "tags": []
   },
   "outputs": [
    {
     "data": {
      "text/html": [
       "<div>\n",
       "<style scoped>\n",
       "    .dataframe tbody tr th:only-of-type {\n",
       "        vertical-align: middle;\n",
       "    }\n",
       "\n",
       "    .dataframe tbody tr th {\n",
       "        vertical-align: top;\n",
       "    }\n",
       "\n",
       "    .dataframe thead th {\n",
       "        text-align: right;\n",
       "    }\n",
       "</style>\n",
       "<table border=\"1\" class=\"dataframe\">\n",
       "  <thead>\n",
       "    <tr style=\"text-align: right;\">\n",
       "      <th></th>\n",
       "      <th>place_id</th>\n",
       "      <th>licence</th>\n",
       "      <th>osm_type</th>\n",
       "      <th>osm_id</th>\n",
       "      <th>lat</th>\n",
       "      <th>lon</th>\n",
       "      <th>class</th>\n",
       "      <th>type</th>\n",
       "      <th>place_rank</th>\n",
       "      <th>importance</th>\n",
       "      <th>...</th>\n",
       "      <th>address.state</th>\n",
       "      <th>address.ISO3166-2-lvl4</th>\n",
       "      <th>address.region</th>\n",
       "      <th>address.postcode</th>\n",
       "      <th>address.country</th>\n",
       "      <th>address.country_code</th>\n",
       "      <th>address.neighbourhood</th>\n",
       "      <th>address.city</th>\n",
       "      <th>address.shop</th>\n",
       "      <th>address.house_number</th>\n",
       "    </tr>\n",
       "  </thead>\n",
       "  <tbody>\n",
       "    <tr>\n",
       "      <th>0</th>\n",
       "      <td>46410411</td>\n",
       "      <td>Data © OpenStreetMap contributors, ODbL 1.0. h...</td>\n",
       "      <td>way</td>\n",
       "      <td>240210480</td>\n",
       "      <td>-15.656916027876347</td>\n",
       "      <td>-47.80264463632131</td>\n",
       "      <td>highway</td>\n",
       "      <td>secondary</td>\n",
       "      <td>26</td>\n",
       "      <td>0.10001</td>\n",
       "      <td>...</td>\n",
       "      <td>Distrito Federal</td>\n",
       "      <td>BR-DF</td>\n",
       "      <td>Região Centro-Oeste</td>\n",
       "      <td>73015-202</td>\n",
       "      <td>Brasil</td>\n",
       "      <td>br</td>\n",
       "      <td>NaN</td>\n",
       "      <td>NaN</td>\n",
       "      <td>NaN</td>\n",
       "      <td>NaN</td>\n",
       "    </tr>\n",
       "    <tr>\n",
       "      <th>1</th>\n",
       "      <td>46401425</td>\n",
       "      <td>Data © OpenStreetMap contributors, ODbL 1.0. h...</td>\n",
       "      <td>way</td>\n",
       "      <td>66353368</td>\n",
       "      <td>-15.805172757199022</td>\n",
       "      <td>-47.893723539491205</td>\n",
       "      <td>highway</td>\n",
       "      <td>residential</td>\n",
       "      <td>26</td>\n",
       "      <td>0.10001</td>\n",
       "      <td>...</td>\n",
       "      <td>Distrito Federal</td>\n",
       "      <td>BR-DF</td>\n",
       "      <td>Região Centro-Oeste</td>\n",
       "      <td>70342-010</td>\n",
       "      <td>Brasil</td>\n",
       "      <td>br</td>\n",
       "      <td>SQS 303</td>\n",
       "      <td>Brasília</td>\n",
       "      <td>NaN</td>\n",
       "      <td>NaN</td>\n",
       "    </tr>\n",
       "    <tr>\n",
       "      <th>2</th>\n",
       "      <td>43777060</td>\n",
       "      <td>Data © OpenStreetMap contributors, ODbL 1.0. h...</td>\n",
       "      <td>node</td>\n",
       "      <td>6249717596</td>\n",
       "      <td>-15.8384371</td>\n",
       "      <td>-48.0552917</td>\n",
       "      <td>shop</td>\n",
       "      <td>pastry</td>\n",
       "      <td>30</td>\n",
       "      <td>0.00001</td>\n",
       "      <td>...</td>\n",
       "      <td>Distrito Federal</td>\n",
       "      <td>BR-DF</td>\n",
       "      <td>Região Centro-Oeste</td>\n",
       "      <td>72015-030</td>\n",
       "      <td>Brasil</td>\n",
       "      <td>br</td>\n",
       "      <td>NaN</td>\n",
       "      <td>Taguatinga</td>\n",
       "      <td>Armazém do Bolo</td>\n",
       "      <td>lote 4/8</td>\n",
       "    </tr>\n",
       "  </tbody>\n",
       "</table>\n",
       "<p>3 rows × 31 columns</p>\n",
       "</div>"
      ],
      "text/plain": [
       "   place_id                                            licence osm_type  \\\n",
       "0  46410411  Data © OpenStreetMap contributors, ODbL 1.0. h...      way   \n",
       "1  46401425  Data © OpenStreetMap contributors, ODbL 1.0. h...      way   \n",
       "2  43777060  Data © OpenStreetMap contributors, ODbL 1.0. h...     node   \n",
       "\n",
       "       osm_id                  lat                  lon    class         type  \\\n",
       "0   240210480  -15.656916027876347   -47.80264463632131  highway    secondary   \n",
       "1    66353368  -15.805172757199022  -47.893723539491205  highway  residential   \n",
       "2  6249717596          -15.8384371          -48.0552917     shop       pastry   \n",
       "\n",
       "   place_rank  importance  ...     address.state address.ISO3166-2-lvl4  \\\n",
       "0          26     0.10001  ...  Distrito Federal                  BR-DF   \n",
       "1          26     0.10001  ...  Distrito Federal                  BR-DF   \n",
       "2          30     0.00001  ...  Distrito Federal                  BR-DF   \n",
       "\n",
       "        address.region address.postcode address.country address.country_code  \\\n",
       "0  Região Centro-Oeste        73015-202          Brasil                   br   \n",
       "1  Região Centro-Oeste        70342-010          Brasil                   br   \n",
       "2  Região Centro-Oeste        72015-030          Brasil                   br   \n",
       "\n",
       "  address.neighbourhood address.city     address.shop address.house_number  \n",
       "0                   NaN          NaN              NaN                  NaN  \n",
       "1               SQS 303     Brasília              NaN                  NaN  \n",
       "2                   NaN   Taguatinga  Armazém do Bolo             lote 4/8  \n",
       "\n",
       "[3 rows x 31 columns]"
      ]
     },
     "execution_count": 11,
     "metadata": {},
     "output_type": "execute_result"
    }
   ],
   "source": [
    "#quebrando cada 'geodata' para utilizarmos somente os necessário\n",
    "hub_geodata_df = pd.json_normalize(hub_df['geodata'].apply(lambda data: data.raw))\n",
    "hub_geodata_df.head()"
   ]
  },
  {
   "cell_type": "code",
   "execution_count": 12,
   "id": "4e2f49f9",
   "metadata": {
    "execution": {
     "iopub.execute_input": "2023-11-10T13:01:31.834921Z",
     "iopub.status.busy": "2023-11-10T13:01:31.834142Z",
     "iopub.status.idle": "2023-11-10T13:01:31.853474Z",
     "shell.execute_reply": "2023-11-10T13:01:31.852193Z"
    },
    "id": "AOdO8fjHN_ly",
    "outputId": "b4db5f64-ff03-4894-d381-dd2ac4782998",
    "papermill": {
     "duration": 0.043372,
     "end_time": "2023-11-10T13:01:31.856487",
     "exception": false,
     "start_time": "2023-11-10T13:01:31.813115",
     "status": "completed"
    },
    "tags": []
   },
   "outputs": [
    {
     "data": {
      "text/html": [
       "<div>\n",
       "<style scoped>\n",
       "    .dataframe tbody tr th:only-of-type {\n",
       "        vertical-align: middle;\n",
       "    }\n",
       "\n",
       "    .dataframe tbody tr th {\n",
       "        vertical-align: top;\n",
       "    }\n",
       "\n",
       "    .dataframe thead th {\n",
       "        text-align: right;\n",
       "    }\n",
       "</style>\n",
       "<table border=\"1\" class=\"dataframe\">\n",
       "  <thead>\n",
       "    <tr style=\"text-align: right;\">\n",
       "      <th></th>\n",
       "      <th>hub_suburb</th>\n",
       "      <th>hub_city</th>\n",
       "    </tr>\n",
       "  </thead>\n",
       "  <tbody>\n",
       "    <tr>\n",
       "      <th>0</th>\n",
       "      <td>Sobradinho</td>\n",
       "      <td>Sobradinho</td>\n",
       "    </tr>\n",
       "    <tr>\n",
       "      <th>1</th>\n",
       "      <td>Asa Sul</td>\n",
       "      <td>Brasília</td>\n",
       "    </tr>\n",
       "    <tr>\n",
       "      <th>2</th>\n",
       "      <td>Taguatinga</td>\n",
       "      <td>Taguatinga</td>\n",
       "    </tr>\n",
       "  </tbody>\n",
       "</table>\n",
       "</div>"
      ],
      "text/plain": [
       "   hub_suburb    hub_city\n",
       "0  Sobradinho  Sobradinho\n",
       "1     Asa Sul    Brasília\n",
       "2  Taguatinga  Taguatinga"
      ]
     },
     "execution_count": 12,
     "metadata": {},
     "output_type": "execute_result"
    }
   ],
   "source": [
    "#obtendo a cidade e o suburbio de cada hub\n",
    "hub_geodata_df = hub_geodata_df[['address.town', 'address.suburb', 'address.city']]\n",
    "hub_geodata_df.rename(columns={'address.town': 'hub_town', 'address.suburb': 'hub_suburb', 'address.city': 'hub_city'}, inplace=True)\n",
    "hub_geodata_df[\"hub_city\"] = np.where(hub_geodata_df[\"hub_city\"].notna(), hub_geodata_df[\"hub_city\"], hub_geodata_df[\"hub_town\"])\n",
    "hub_geodata_df[\"hub_suburb\"] = np.where(hub_geodata_df[\"hub_suburb\"].notna(), hub_geodata_df[\"hub_suburb\"], hub_geodata_df[\"hub_city\"])\n",
    "hub_geodata_df = hub_geodata_df.drop(\"hub_town\", axis=1)\n",
    "hub_geodata_df.head()"
   ]
  },
  {
   "cell_type": "code",
   "execution_count": 13,
   "id": "fcd16ae4",
   "metadata": {
    "execution": {
     "iopub.execute_input": "2023-11-10T13:01:31.897413Z",
     "iopub.status.busy": "2023-11-10T13:01:31.896186Z",
     "iopub.status.idle": "2023-11-10T13:01:31.913677Z",
     "shell.execute_reply": "2023-11-10T13:01:31.912402Z"
    },
    "id": "WHlJyYIZPd0N",
    "outputId": "8d8c200b-4fc0-422d-d0de-073f703745d1",
    "papermill": {
     "duration": 0.041037,
     "end_time": "2023-11-10T13:01:31.916516",
     "exception": false,
     "start_time": "2023-11-10T13:01:31.875479",
     "status": "completed"
    },
    "tags": []
   },
   "outputs": [
    {
     "data": {
      "text/html": [
       "<div>\n",
       "<style scoped>\n",
       "    .dataframe tbody tr th:only-of-type {\n",
       "        vertical-align: middle;\n",
       "    }\n",
       "\n",
       "    .dataframe tbody tr th {\n",
       "        vertical-align: top;\n",
       "    }\n",
       "\n",
       "    .dataframe thead th {\n",
       "        text-align: right;\n",
       "    }\n",
       "</style>\n",
       "<table border=\"1\" class=\"dataframe\">\n",
       "  <thead>\n",
       "    <tr style=\"text-align: right;\">\n",
       "      <th></th>\n",
       "      <th>region</th>\n",
       "      <th>hub_suburb</th>\n",
       "      <th>hub_city</th>\n",
       "    </tr>\n",
       "  </thead>\n",
       "  <tbody>\n",
       "    <tr>\n",
       "      <th>0</th>\n",
       "      <td>df-0</td>\n",
       "      <td>Sobradinho</td>\n",
       "      <td>Sobradinho</td>\n",
       "    </tr>\n",
       "    <tr>\n",
       "      <th>1</th>\n",
       "      <td>df-1</td>\n",
       "      <td>Asa Sul</td>\n",
       "      <td>Brasília</td>\n",
       "    </tr>\n",
       "    <tr>\n",
       "      <th>2</th>\n",
       "      <td>df-2</td>\n",
       "      <td>Taguatinga</td>\n",
       "      <td>Taguatinga</td>\n",
       "    </tr>\n",
       "  </tbody>\n",
       "</table>\n",
       "</div>"
      ],
      "text/plain": [
       "  region  hub_suburb    hub_city\n",
       "0   df-0  Sobradinho  Sobradinho\n",
       "1   df-1     Asa Sul    Brasília\n",
       "2   df-2  Taguatinga  Taguatinga"
      ]
     },
     "execution_count": 13,
     "metadata": {},
     "output_type": "execute_result"
    }
   ],
   "source": [
    "#Mesclando com o dataframe hub_df\n",
    "hub_df = pd.merge(left=hub_df, right=hub_geodata_df, left_index=True, right_index=True)\n",
    "hub_df = hub_df[['region', 'hub_suburb', 'hub_city']]\n",
    "hub_df.head()"
   ]
  },
  {
   "cell_type": "code",
   "execution_count": 14,
   "id": "57cd35b7",
   "metadata": {
    "execution": {
     "iopub.execute_input": "2023-11-10T13:01:31.957599Z",
     "iopub.status.busy": "2023-11-10T13:01:31.956661Z",
     "iopub.status.idle": "2023-11-10T13:01:32.387485Z",
     "shell.execute_reply": "2023-11-10T13:01:32.386305Z"
    },
    "id": "vF3iRT4CQMq3",
    "outputId": "79f56697-c061-43da-d57c-bf34da6a79b7",
    "papermill": {
     "duration": 0.455261,
     "end_time": "2023-11-10T13:01:32.390742",
     "exception": false,
     "start_time": "2023-11-10T13:01:31.935481",
     "status": "completed"
    },
    "tags": []
   },
   "outputs": [
    {
     "data": {
      "text/html": [
       "<div>\n",
       "<style scoped>\n",
       "    .dataframe tbody tr th:only-of-type {\n",
       "        vertical-align: middle;\n",
       "    }\n",
       "\n",
       "    .dataframe tbody tr th {\n",
       "        vertical-align: top;\n",
       "    }\n",
       "\n",
       "    .dataframe thead th {\n",
       "        text-align: right;\n",
       "    }\n",
       "</style>\n",
       "<table border=\"1\" class=\"dataframe\">\n",
       "  <thead>\n",
       "    <tr style=\"text-align: right;\">\n",
       "      <th></th>\n",
       "      <th>name</th>\n",
       "      <th>region</th>\n",
       "      <th>hub_lng</th>\n",
       "      <th>hub_lat</th>\n",
       "      <th>hub_city</th>\n",
       "      <th>hub_suburb</th>\n",
       "      <th>vehicle_capacity</th>\n",
       "      <th>delivery_id</th>\n",
       "      <th>delivery_size</th>\n",
       "      <th>delivery_lng</th>\n",
       "      <th>delivery_lat</th>\n",
       "    </tr>\n",
       "  </thead>\n",
       "  <tbody>\n",
       "    <tr>\n",
       "      <th>0</th>\n",
       "      <td>cvrp-2-df-33</td>\n",
       "      <td>df-2</td>\n",
       "      <td>-48.054989</td>\n",
       "      <td>-15.838145</td>\n",
       "      <td>Taguatinga</td>\n",
       "      <td>Taguatinga</td>\n",
       "      <td>180</td>\n",
       "      <td>313483a19d2f8d65cd5024c8d215cfbd</td>\n",
       "      <td>9</td>\n",
       "      <td>-48.116189</td>\n",
       "      <td>-15.848929</td>\n",
       "    </tr>\n",
       "    <tr>\n",
       "      <th>1</th>\n",
       "      <td>cvrp-2-df-33</td>\n",
       "      <td>df-2</td>\n",
       "      <td>-48.054989</td>\n",
       "      <td>-15.838145</td>\n",
       "      <td>Taguatinga</td>\n",
       "      <td>Taguatinga</td>\n",
       "      <td>180</td>\n",
       "      <td>320c94b17aa685c939b3f3244c3099de</td>\n",
       "      <td>2</td>\n",
       "      <td>-48.118195</td>\n",
       "      <td>-15.850772</td>\n",
       "    </tr>\n",
       "    <tr>\n",
       "      <th>2</th>\n",
       "      <td>cvrp-2-df-33</td>\n",
       "      <td>df-2</td>\n",
       "      <td>-48.054989</td>\n",
       "      <td>-15.838145</td>\n",
       "      <td>Taguatinga</td>\n",
       "      <td>Taguatinga</td>\n",
       "      <td>180</td>\n",
       "      <td>3663b42f4b8decb33059febaba46d5c8</td>\n",
       "      <td>1</td>\n",
       "      <td>-48.112483</td>\n",
       "      <td>-15.847871</td>\n",
       "    </tr>\n",
       "    <tr>\n",
       "      <th>3</th>\n",
       "      <td>cvrp-2-df-33</td>\n",
       "      <td>df-2</td>\n",
       "      <td>-48.054989</td>\n",
       "      <td>-15.838145</td>\n",
       "      <td>Taguatinga</td>\n",
       "      <td>Taguatinga</td>\n",
       "      <td>180</td>\n",
       "      <td>e11ab58363c38d6abc90d5fba87b7d7</td>\n",
       "      <td>2</td>\n",
       "      <td>-48.118023</td>\n",
       "      <td>-15.846471</td>\n",
       "    </tr>\n",
       "    <tr>\n",
       "      <th>4</th>\n",
       "      <td>cvrp-2-df-33</td>\n",
       "      <td>df-2</td>\n",
       "      <td>-48.054989</td>\n",
       "      <td>-15.838145</td>\n",
       "      <td>Taguatinga</td>\n",
       "      <td>Taguatinga</td>\n",
       "      <td>180</td>\n",
       "      <td>54cb45b7bbbd4e34e7150900f92d7f4b</td>\n",
       "      <td>7</td>\n",
       "      <td>-48.114898</td>\n",
       "      <td>-15.858055</td>\n",
       "    </tr>\n",
       "  </tbody>\n",
       "</table>\n",
       "</div>"
      ],
      "text/plain": [
       "           name region    hub_lng    hub_lat    hub_city  hub_suburb  \\\n",
       "0  cvrp-2-df-33   df-2 -48.054989 -15.838145  Taguatinga  Taguatinga   \n",
       "1  cvrp-2-df-33   df-2 -48.054989 -15.838145  Taguatinga  Taguatinga   \n",
       "2  cvrp-2-df-33   df-2 -48.054989 -15.838145  Taguatinga  Taguatinga   \n",
       "3  cvrp-2-df-33   df-2 -48.054989 -15.838145  Taguatinga  Taguatinga   \n",
       "4  cvrp-2-df-33   df-2 -48.054989 -15.838145  Taguatinga  Taguatinga   \n",
       "\n",
       "   vehicle_capacity                       delivery_id  delivery_size  \\\n",
       "0               180  313483a19d2f8d65cd5024c8d215cfbd              9   \n",
       "1               180  320c94b17aa685c939b3f3244c3099de              2   \n",
       "2               180  3663b42f4b8decb33059febaba46d5c8              1   \n",
       "3               180   e11ab58363c38d6abc90d5fba87b7d7              2   \n",
       "4               180  54cb45b7bbbd4e34e7150900f92d7f4b              7   \n",
       "\n",
       "   delivery_lng  delivery_lat  \n",
       "0    -48.116189    -15.848929  \n",
       "1    -48.118195    -15.850772  \n",
       "2    -48.112483    -15.847871  \n",
       "3    -48.118023    -15.846471  \n",
       "4    -48.114898    -15.858055  "
      ]
     },
     "execution_count": 14,
     "metadata": {},
     "output_type": "execute_result"
    }
   ],
   "source": [
    "#mesclando com o dataframe principal\n",
    "deliveries_df = pd.merge(left=deliveries_df, right=hub_df, how='inner', on='region')\n",
    "deliveries_df = deliveries_df[['name', 'region', 'hub_lng', 'hub_lat', 'hub_city', 'hub_suburb', 'vehicle_capacity', 'delivery_id', 'delivery_size', 'delivery_lng', 'delivery_lat']]\n",
    "deliveries_df.head()"
   ]
  },
  {
   "cell_type": "code",
   "execution_count": 15,
   "id": "f40a0c3d",
   "metadata": {
    "execution": {
     "iopub.execute_input": "2023-11-10T13:01:32.431794Z",
     "iopub.status.busy": "2023-11-10T13:01:32.431290Z",
     "iopub.status.idle": "2023-11-10T13:01:33.879113Z",
     "shell.execute_reply": "2023-11-10T13:01:33.877252Z"
    },
    "id": "oVBMPMuRRRyA",
    "papermill": {
     "duration": 1.472441,
     "end_time": "2023-11-10T13:01:33.882600",
     "exception": false,
     "start_time": "2023-11-10T13:01:32.410159",
     "status": "completed"
    },
    "tags": []
   },
   "outputs": [],
   "source": [
    "#obtendo os dados das entregas por meio externo já que seriam muitos dados para serem processados e com o limitador de 1 dado por segundo, ficaria inviável fazê-lo\n",
    "!wget -q \"https://raw.githubusercontent.com/andre-marcos-perez/ebac-course-utils/main/dataset/deliveries-geodata.csv\" -O deliveries-geodata.csv"
   ]
  },
  {
   "cell_type": "code",
   "execution_count": 16,
   "id": "60bf2d05",
   "metadata": {
    "execution": {
     "iopub.execute_input": "2023-11-10T13:01:33.928091Z",
     "iopub.status.busy": "2023-11-10T13:01:33.927536Z",
     "iopub.status.idle": "2023-11-10T13:01:34.647042Z",
     "shell.execute_reply": "2023-11-10T13:01:34.645795Z"
    },
    "id": "OIrxFnjSRYEG",
    "outputId": "b2ce6024-f613-4580-e4a2-ccf7178d3c4f",
    "papermill": {
     "duration": 0.745548,
     "end_time": "2023-11-10T13:01:34.650006",
     "exception": false,
     "start_time": "2023-11-10T13:01:33.904458",
     "status": "completed"
    },
    "tags": []
   },
   "outputs": [
    {
     "data": {
      "text/html": [
       "<div>\n",
       "<style scoped>\n",
       "    .dataframe tbody tr th:only-of-type {\n",
       "        vertical-align: middle;\n",
       "    }\n",
       "\n",
       "    .dataframe tbody tr th {\n",
       "        vertical-align: top;\n",
       "    }\n",
       "\n",
       "    .dataframe thead th {\n",
       "        text-align: right;\n",
       "    }\n",
       "</style>\n",
       "<table border=\"1\" class=\"dataframe\">\n",
       "  <thead>\n",
       "    <tr style=\"text-align: right;\">\n",
       "      <th></th>\n",
       "      <th>delivery_lng</th>\n",
       "      <th>delivery_lat</th>\n",
       "      <th>delivery_city</th>\n",
       "      <th>delivery_suburb</th>\n",
       "    </tr>\n",
       "  </thead>\n",
       "  <tbody>\n",
       "    <tr>\n",
       "      <th>0</th>\n",
       "      <td>-48.116189</td>\n",
       "      <td>-15.848929</td>\n",
       "      <td>Ceilândia</td>\n",
       "      <td>P Sul</td>\n",
       "    </tr>\n",
       "    <tr>\n",
       "      <th>1</th>\n",
       "      <td>-48.118195</td>\n",
       "      <td>-15.850772</td>\n",
       "      <td>Ceilândia</td>\n",
       "      <td>P Sul</td>\n",
       "    </tr>\n",
       "    <tr>\n",
       "      <th>2</th>\n",
       "      <td>-48.112483</td>\n",
       "      <td>-15.847871</td>\n",
       "      <td>Ceilândia</td>\n",
       "      <td>P Sul</td>\n",
       "    </tr>\n",
       "    <tr>\n",
       "      <th>3</th>\n",
       "      <td>-48.118023</td>\n",
       "      <td>-15.846471</td>\n",
       "      <td>Ceilândia</td>\n",
       "      <td>P Sul</td>\n",
       "    </tr>\n",
       "    <tr>\n",
       "      <th>4</th>\n",
       "      <td>-48.114898</td>\n",
       "      <td>-15.858055</td>\n",
       "      <td>Sol Nascente/Pôr do Sol</td>\n",
       "      <td>Sol Nascente/Pôr do Sol</td>\n",
       "    </tr>\n",
       "  </tbody>\n",
       "</table>\n",
       "</div>"
      ],
      "text/plain": [
       "   delivery_lng  delivery_lat            delivery_city  \\\n",
       "0    -48.116189    -15.848929                Ceilândia   \n",
       "1    -48.118195    -15.850772                Ceilândia   \n",
       "2    -48.112483    -15.847871                Ceilândia   \n",
       "3    -48.118023    -15.846471                Ceilândia   \n",
       "4    -48.114898    -15.858055  Sol Nascente/Pôr do Sol   \n",
       "\n",
       "           delivery_suburb  \n",
       "0                    P Sul  \n",
       "1                    P Sul  \n",
       "2                    P Sul  \n",
       "3                    P Sul  \n",
       "4  Sol Nascente/Pôr do Sol  "
      ]
     },
     "execution_count": 16,
     "metadata": {},
     "output_type": "execute_result"
    }
   ],
   "source": [
    "deliveries_geodata_df = pd.read_csv(\"deliveries-geodata.csv\")\n",
    "deliveries_geodata_df.head()"
   ]
  },
  {
   "cell_type": "code",
   "execution_count": 17,
   "id": "59a0dd9f",
   "metadata": {
    "execution": {
     "iopub.execute_input": "2023-11-10T13:01:34.694246Z",
     "iopub.status.busy": "2023-11-10T13:01:34.692986Z",
     "iopub.status.idle": "2023-11-10T13:01:34.831798Z",
     "shell.execute_reply": "2023-11-10T13:01:34.830490Z"
    },
    "id": "jt_1Xu3rRaE7",
    "outputId": "53f9489c-4037-4e5e-a74e-782710c0ec36",
    "papermill": {
     "duration": 0.165243,
     "end_time": "2023-11-10T13:01:34.834837",
     "exception": false,
     "start_time": "2023-11-10T13:01:34.669594",
     "status": "completed"
    },
    "tags": []
   },
   "outputs": [
    {
     "data": {
      "text/html": [
       "<div>\n",
       "<style scoped>\n",
       "    .dataframe tbody tr th:only-of-type {\n",
       "        vertical-align: middle;\n",
       "    }\n",
       "\n",
       "    .dataframe tbody tr th {\n",
       "        vertical-align: top;\n",
       "    }\n",
       "\n",
       "    .dataframe thead th {\n",
       "        text-align: right;\n",
       "    }\n",
       "</style>\n",
       "<table border=\"1\" class=\"dataframe\">\n",
       "  <thead>\n",
       "    <tr style=\"text-align: right;\">\n",
       "      <th></th>\n",
       "      <th>name</th>\n",
       "      <th>region</th>\n",
       "      <th>hub_lng</th>\n",
       "      <th>hub_lat</th>\n",
       "      <th>hub_city</th>\n",
       "      <th>hub_suburb</th>\n",
       "      <th>vehicle_capacity</th>\n",
       "      <th>delivery_id</th>\n",
       "      <th>delivery_size</th>\n",
       "      <th>delivery_lng</th>\n",
       "      <th>delivery_lat</th>\n",
       "      <th>delivery_city</th>\n",
       "      <th>delivery_suburb</th>\n",
       "    </tr>\n",
       "  </thead>\n",
       "  <tbody>\n",
       "    <tr>\n",
       "      <th>0</th>\n",
       "      <td>cvrp-2-df-33</td>\n",
       "      <td>df-2</td>\n",
       "      <td>-48.054989</td>\n",
       "      <td>-15.838145</td>\n",
       "      <td>Taguatinga</td>\n",
       "      <td>Taguatinga</td>\n",
       "      <td>180</td>\n",
       "      <td>313483a19d2f8d65cd5024c8d215cfbd</td>\n",
       "      <td>9</td>\n",
       "      <td>-48.116189</td>\n",
       "      <td>-15.848929</td>\n",
       "      <td>Ceilândia</td>\n",
       "      <td>P Sul</td>\n",
       "    </tr>\n",
       "    <tr>\n",
       "      <th>1</th>\n",
       "      <td>cvrp-2-df-33</td>\n",
       "      <td>df-2</td>\n",
       "      <td>-48.054989</td>\n",
       "      <td>-15.838145</td>\n",
       "      <td>Taguatinga</td>\n",
       "      <td>Taguatinga</td>\n",
       "      <td>180</td>\n",
       "      <td>320c94b17aa685c939b3f3244c3099de</td>\n",
       "      <td>2</td>\n",
       "      <td>-48.118195</td>\n",
       "      <td>-15.850772</td>\n",
       "      <td>Ceilândia</td>\n",
       "      <td>P Sul</td>\n",
       "    </tr>\n",
       "    <tr>\n",
       "      <th>2</th>\n",
       "      <td>cvrp-2-df-33</td>\n",
       "      <td>df-2</td>\n",
       "      <td>-48.054989</td>\n",
       "      <td>-15.838145</td>\n",
       "      <td>Taguatinga</td>\n",
       "      <td>Taguatinga</td>\n",
       "      <td>180</td>\n",
       "      <td>3663b42f4b8decb33059febaba46d5c8</td>\n",
       "      <td>1</td>\n",
       "      <td>-48.112483</td>\n",
       "      <td>-15.847871</td>\n",
       "      <td>Ceilândia</td>\n",
       "      <td>P Sul</td>\n",
       "    </tr>\n",
       "    <tr>\n",
       "      <th>3</th>\n",
       "      <td>cvrp-2-df-33</td>\n",
       "      <td>df-2</td>\n",
       "      <td>-48.054989</td>\n",
       "      <td>-15.838145</td>\n",
       "      <td>Taguatinga</td>\n",
       "      <td>Taguatinga</td>\n",
       "      <td>180</td>\n",
       "      <td>e11ab58363c38d6abc90d5fba87b7d7</td>\n",
       "      <td>2</td>\n",
       "      <td>-48.118023</td>\n",
       "      <td>-15.846471</td>\n",
       "      <td>Ceilândia</td>\n",
       "      <td>P Sul</td>\n",
       "    </tr>\n",
       "    <tr>\n",
       "      <th>4</th>\n",
       "      <td>cvrp-2-df-33</td>\n",
       "      <td>df-2</td>\n",
       "      <td>-48.054989</td>\n",
       "      <td>-15.838145</td>\n",
       "      <td>Taguatinga</td>\n",
       "      <td>Taguatinga</td>\n",
       "      <td>180</td>\n",
       "      <td>54cb45b7bbbd4e34e7150900f92d7f4b</td>\n",
       "      <td>7</td>\n",
       "      <td>-48.114898</td>\n",
       "      <td>-15.858055</td>\n",
       "      <td>Sol Nascente/Pôr do Sol</td>\n",
       "      <td>Sol Nascente/Pôr do Sol</td>\n",
       "    </tr>\n",
       "  </tbody>\n",
       "</table>\n",
       "</div>"
      ],
      "text/plain": [
       "           name region    hub_lng    hub_lat    hub_city  hub_suburb  \\\n",
       "0  cvrp-2-df-33   df-2 -48.054989 -15.838145  Taguatinga  Taguatinga   \n",
       "1  cvrp-2-df-33   df-2 -48.054989 -15.838145  Taguatinga  Taguatinga   \n",
       "2  cvrp-2-df-33   df-2 -48.054989 -15.838145  Taguatinga  Taguatinga   \n",
       "3  cvrp-2-df-33   df-2 -48.054989 -15.838145  Taguatinga  Taguatinga   \n",
       "4  cvrp-2-df-33   df-2 -48.054989 -15.838145  Taguatinga  Taguatinga   \n",
       "\n",
       "   vehicle_capacity                       delivery_id  delivery_size  \\\n",
       "0               180  313483a19d2f8d65cd5024c8d215cfbd              9   \n",
       "1               180  320c94b17aa685c939b3f3244c3099de              2   \n",
       "2               180  3663b42f4b8decb33059febaba46d5c8              1   \n",
       "3               180   e11ab58363c38d6abc90d5fba87b7d7              2   \n",
       "4               180  54cb45b7bbbd4e34e7150900f92d7f4b              7   \n",
       "\n",
       "   delivery_lng  delivery_lat            delivery_city  \\\n",
       "0    -48.116189    -15.848929                Ceilândia   \n",
       "1    -48.118195    -15.850772                Ceilândia   \n",
       "2    -48.112483    -15.847871                Ceilândia   \n",
       "3    -48.118023    -15.846471                Ceilândia   \n",
       "4    -48.114898    -15.858055  Sol Nascente/Pôr do Sol   \n",
       "\n",
       "           delivery_suburb  \n",
       "0                    P Sul  \n",
       "1                    P Sul  \n",
       "2                    P Sul  \n",
       "3                    P Sul  \n",
       "4  Sol Nascente/Pôr do Sol  "
      ]
     },
     "execution_count": 17,
     "metadata": {},
     "output_type": "execute_result"
    }
   ],
   "source": [
    "#mesclando os dados obtidos com o dataframe principal\n",
    "deliveries_df = pd.merge(left=deliveries_df, right=deliveries_geodata_df[[\"delivery_city\", \"delivery_suburb\"]], how=\"inner\", left_index=True, right_index=True)\n",
    "deliveries_df.head()"
   ]
  },
  {
   "cell_type": "markdown",
   "id": "635f87a3",
   "metadata": {
    "id": "PF0hfkqNH20M",
    "papermill": {
     "duration": 0.019248,
     "end_time": "2023-11-10T13:01:34.873963",
     "exception": false,
     "start_time": "2023-11-10T13:01:34.854715",
     "status": "completed"
    },
    "tags": []
   },
   "source": [
    " 4.2 Conferência dos dados obtidos"
   ]
  },
  {
   "cell_type": "code",
   "execution_count": 18,
   "id": "e19be79b",
   "metadata": {
    "execution": {
     "iopub.execute_input": "2023-11-10T13:01:34.915818Z",
     "iopub.status.busy": "2023-11-10T13:01:34.915312Z",
     "iopub.status.idle": "2023-11-10T13:01:35.399357Z",
     "shell.execute_reply": "2023-11-10T13:01:35.398124Z"
    },
    "id": "DCKZfjWcRgoC",
    "outputId": "0ef955ec-1651-43bd-8b0e-f0824396a98d",
    "papermill": {
     "duration": 0.50879,
     "end_time": "2023-11-10T13:01:35.402434",
     "exception": false,
     "start_time": "2023-11-10T13:01:34.893644",
     "status": "completed"
    },
    "tags": []
   },
   "outputs": [
    {
     "name": "stdout",
     "output_type": "stream",
     "text": [
      "<class 'pandas.core.frame.DataFrame'>\n",
      "RangeIndex: 636149 entries, 0 to 636148\n",
      "Data columns (total 13 columns):\n",
      " #   Column            Non-Null Count   Dtype  \n",
      "---  ------            --------------   -----  \n",
      " 0   name              636149 non-null  object \n",
      " 1   region            636149 non-null  object \n",
      " 2   hub_lng           636149 non-null  float64\n",
      " 3   hub_lat           636149 non-null  float64\n",
      " 4   hub_city          636149 non-null  object \n",
      " 5   hub_suburb        636149 non-null  object \n",
      " 6   vehicle_capacity  636149 non-null  int64  \n",
      " 7   delivery_id       636149 non-null  object \n",
      " 8   delivery_size     636149 non-null  int64  \n",
      " 9   delivery_lng      636149 non-null  float64\n",
      " 10  delivery_lat      636149 non-null  float64\n",
      " 11  delivery_city     634447 non-null  object \n",
      " 12  delivery_suburb   476264 non-null  object \n",
      "dtypes: float64(4), int64(2), object(7)\n",
      "memory usage: 63.1+ MB\n"
     ]
    }
   ],
   "source": [
    "deliveries_df.info()"
   ]
  },
  {
   "cell_type": "code",
   "execution_count": 19,
   "id": "edd0e305",
   "metadata": {
    "execution": {
     "iopub.execute_input": "2023-11-10T13:01:35.445109Z",
     "iopub.status.busy": "2023-11-10T13:01:35.444620Z",
     "iopub.status.idle": "2023-11-10T13:01:35.901156Z",
     "shell.execute_reply": "2023-11-10T13:01:35.899958Z"
    },
    "id": "gpbiGQgRRn2j",
    "outputId": "99d96617-254a-45a9-92e5-da6ed4a69c87",
    "papermill": {
     "duration": 0.481195,
     "end_time": "2023-11-10T13:01:35.903878",
     "exception": false,
     "start_time": "2023-11-10T13:01:35.422683",
     "status": "completed"
    },
    "tags": []
   },
   "outputs": [
    {
     "data": {
      "text/plain": [
       "name                False\n",
       "region              False\n",
       "hub_lng             False\n",
       "hub_lat             False\n",
       "hub_city            False\n",
       "hub_suburb          False\n",
       "vehicle_capacity    False\n",
       "delivery_id         False\n",
       "delivery_size       False\n",
       "delivery_lng        False\n",
       "delivery_lat        False\n",
       "delivery_city        True\n",
       "delivery_suburb      True\n",
       "dtype: bool"
      ]
     },
     "execution_count": 19,
     "metadata": {},
     "output_type": "execute_result"
    }
   ],
   "source": [
    "deliveries_df.isna().any()"
   ]
  },
  {
   "cell_type": "markdown",
   "id": "a46f4964",
   "metadata": {
    "id": "lvY4XkrXIKmN",
    "papermill": {
     "duration": 0.020587,
     "end_time": "2023-11-10T13:01:35.944997",
     "exception": false,
     "start_time": "2023-11-10T13:01:35.924410",
     "status": "completed"
    },
    "tags": []
   },
   "source": [
    "Como percebe-se que tanto no delivery_city como no delivey_suburb tem itens nulos, vamos conferir o quão significativo são esses valores."
   ]
  },
  {
   "cell_type": "code",
   "execution_count": 20,
   "id": "c5ec3995",
   "metadata": {
    "execution": {
     "iopub.execute_input": "2023-11-10T13:01:35.988848Z",
     "iopub.status.busy": "2023-11-10T13:01:35.988361Z",
     "iopub.status.idle": "2023-11-10T13:01:36.061346Z",
     "shell.execute_reply": "2023-11-10T13:01:36.060103Z"
    },
    "id": "8okUZ5cZRy0y",
    "outputId": "8f88e213-5851-405e-f1ce-0560362ee9e9",
    "papermill": {
     "duration": 0.097771,
     "end_time": "2023-11-10T13:01:36.063965",
     "exception": false,
     "start_time": "2023-11-10T13:01:35.966194",
     "status": "completed"
    },
    "tags": []
   },
   "outputs": [
    {
     "data": {
      "text/plain": [
       "0.26754738276724477"
      ]
     },
     "execution_count": 20,
     "metadata": {},
     "output_type": "execute_result"
    }
   ],
   "source": [
    "100 * (deliveries_df[\"delivery_city\"].isna().sum() / len(deliveries_df))"
   ]
  },
  {
   "cell_type": "code",
   "execution_count": 21,
   "id": "7c7ba288",
   "metadata": {
    "execution": {
     "iopub.execute_input": "2023-11-10T13:01:36.106773Z",
     "iopub.status.busy": "2023-11-10T13:01:36.106303Z",
     "iopub.status.idle": "2023-11-10T13:01:36.169813Z",
     "shell.execute_reply": "2023-11-10T13:01:36.168964Z"
    },
    "id": "F8F-oSVbR20v",
    "outputId": "9ba8a7a8-f312-4198-fa85-0a0f3fea7dd9",
    "papermill": {
     "duration": 0.08808,
     "end_time": "2023-11-10T13:01:36.172270",
     "exception": false,
     "start_time": "2023-11-10T13:01:36.084190",
     "status": "completed"
    },
    "tags": []
   },
   "outputs": [
    {
     "data": {
      "text/plain": [
       "25.133262804783158"
      ]
     },
     "execution_count": 21,
     "metadata": {},
     "output_type": "execute_result"
    }
   ],
   "source": [
    "100 * (deliveries_df[\"delivery_suburb\"].isna().sum() / len(deliveries_df))"
   ]
  },
  {
   "cell_type": "markdown",
   "id": "846b923b",
   "metadata": {
    "id": "uvqpwkxtIcE5",
    "papermill": {
     "duration": 0.019831,
     "end_time": "2023-11-10T13:01:36.212455",
     "exception": false,
     "start_time": "2023-11-10T13:01:36.192624",
     "status": "completed"
    },
    "tags": []
   },
   "source": [
    "Os valores nulos são menores de 1% no caso das cidades, já no caso dos suburbios passam de 25%, sendo um valor bastante elevado."
   ]
  },
  {
   "cell_type": "code",
   "execution_count": 22,
   "id": "d454e3a7",
   "metadata": {
    "execution": {
     "iopub.execute_input": "2023-11-10T13:01:36.256083Z",
     "iopub.status.busy": "2023-11-10T13:01:36.254884Z",
     "iopub.status.idle": "2023-11-10T13:01:36.416521Z",
     "shell.execute_reply": "2023-11-10T13:01:36.415144Z"
    },
    "id": "moJgSFxlR-su",
    "outputId": "0cb90f17-c890-4b75-d49b-cded02f67394",
    "papermill": {
     "duration": 0.186067,
     "end_time": "2023-11-10T13:01:36.419149",
     "exception": false,
     "start_time": "2023-11-10T13:01:36.233082",
     "status": "completed"
    },
    "tags": []
   },
   "outputs": [
    {
     "data": {
      "text/plain": [
       "delivery_city       \n",
       "Brasília                0.234195\n",
       "Taguatinga              0.071625\n",
       "Sudoeste / Octogonal    0.069504\n",
       "Ceilândia               0.059661\n",
       "Águas Claras            0.058293\n",
       "Guará                   0.055619\n",
       "Lago Sul                0.045620\n",
       "Sobradinho              0.045412\n",
       "Lago Norte              0.040832\n",
       "Gama                    0.034880\n",
       "Name: count, dtype: float64"
      ]
     },
     "execution_count": 22,
     "metadata": {},
     "output_type": "execute_result"
    }
   ],
   "source": [
    "prop_df = deliveries_df[[\"delivery_city\"]].value_counts() / len(deliveries_df)\n",
    "prop_df.sort_values(ascending=False).head(10)"
   ]
  },
  {
   "cell_type": "code",
   "execution_count": 23,
   "id": "702a4506",
   "metadata": {
    "execution": {
     "iopub.execute_input": "2023-11-10T13:01:36.462440Z",
     "iopub.status.busy": "2023-11-10T13:01:36.461921Z",
     "iopub.status.idle": "2023-11-10T13:01:36.606293Z",
     "shell.execute_reply": "2023-11-10T13:01:36.604926Z"
    },
    "id": "tJ_SYAeISA85",
    "outputId": "b7e30033-da77-4c6e-8f23-6a2227f8f7c3",
    "papermill": {
     "duration": 0.169487,
     "end_time": "2023-11-10T13:01:36.609238",
     "exception": false,
     "start_time": "2023-11-10T13:01:36.439751",
     "status": "completed"
    },
    "tags": []
   },
   "outputs": [
    {
     "data": {
      "text/plain": [
       "delivery_suburb \n",
       "Brasília            0.084564\n",
       "Asa Norte           0.076639\n",
       "Taguatinga          0.063363\n",
       "Asa Sul             0.059263\n",
       "Águas Claras        0.056598\n",
       "Guará               0.055619\n",
       "Samambaia           0.026514\n",
       "Sobradinho          0.018148\n",
       "Recanto das Emas    0.015029\n",
       "P Sul               0.012807\n",
       "Name: count, dtype: float64"
      ]
     },
     "execution_count": 23,
     "metadata": {},
     "output_type": "execute_result"
    }
   ],
   "source": [
    "prop_df = deliveries_df[[\"delivery_suburb\"]].value_counts() / len(deliveries_df)\n",
    "prop_df.sort_values(ascending=False).head(10)"
   ]
  },
  {
   "cell_type": "markdown",
   "id": "aaddb66f",
   "metadata": {
    "id": "3yQyw49BI0Mi",
    "papermill": {
     "duration": 0.020395,
     "end_time": "2023-11-10T13:01:36.650342",
     "exception": false,
     "start_time": "2023-11-10T13:01:36.629947",
     "status": "completed"
    },
    "tags": []
   },
   "source": [
    "Podemos ver também que as cidades teem uma com mais de 23% dos casos, 'Brasília', como esse termo não é uma cidade, é provavel que os locais grafados como 'Brasília' estão locados em áreas rurais."
   ]
  },
  {
   "cell_type": "markdown",
   "id": "691922ce",
   "metadata": {
    "id": "KSgjP--1JS9R",
    "papermill": {
     "duration": 0.0205,
     "end_time": "2023-11-10T13:01:36.691604",
     "exception": false,
     "start_time": "2023-11-10T13:01:36.671104",
     "status": "completed"
    },
    "tags": []
   },
   "source": [
    "## 5\\. Visualização"
   ]
  },
  {
   "cell_type": "markdown",
   "id": "a61eb4e1",
   "metadata": {
    "id": "3DupwbtGZ5y2",
    "papermill": {
     "duration": 0.02049,
     "end_time": "2023-11-10T13:01:36.732962",
     "exception": false,
     "start_time": "2023-11-10T13:01:36.712472",
     "status": "completed"
    },
    "tags": []
   },
   "source": [
    "5.1 Mapa de distribuição"
   ]
  },
  {
   "cell_type": "code",
   "execution_count": 24,
   "id": "fb2d7972",
   "metadata": {
    "execution": {
     "iopub.execute_input": "2023-11-10T13:01:36.777027Z",
     "iopub.status.busy": "2023-11-10T13:01:36.776525Z",
     "iopub.status.idle": "2023-11-10T13:01:55.080550Z",
     "shell.execute_reply": "2023-11-10T13:01:55.079014Z"
    },
    "id": "Jlj3ACWCJS9R",
    "papermill": {
     "duration": 18.330604,
     "end_time": "2023-11-10T13:01:55.084319",
     "exception": false,
     "start_time": "2023-11-10T13:01:36.753715",
     "status": "completed"
    },
    "tags": []
   },
   "outputs": [],
   "source": [
    "#obtendo os dados para o mapa no IBGE\n",
    "!wget -q \"https://geoftp.ibge.gov.br/cartas_e_mapas/bases_cartograficas_continuas/bc100/go_df/versao2016/shapefile/bc100_go_df_shp.zip\" -O distrito-federal.zip\n",
    "!unzip -q distrito-federal.zip -d ./maps\n",
    "!cp ./maps/LIM_Unidade_Federacao_A.shp ./distrito-federal.shp\n",
    "!cp ./maps/LIM_Unidade_Federacao_A.shx ./distrito-federal.shx"
   ]
  },
  {
   "cell_type": "code",
   "execution_count": 25,
   "id": "296be539",
   "metadata": {
    "execution": {
     "iopub.execute_input": "2023-11-10T13:01:55.149777Z",
     "iopub.status.busy": "2023-11-10T13:01:55.148727Z",
     "iopub.status.idle": "2023-11-10T13:01:55.718857Z",
     "shell.execute_reply": "2023-11-10T13:01:55.717449Z"
    },
    "id": "EeG-o_mbTG5R",
    "outputId": "9e586adf-7b7f-4e8c-ebd8-b30b5f6c44b6",
    "papermill": {
     "duration": 0.59835,
     "end_time": "2023-11-10T13:01:55.722184",
     "exception": false,
     "start_time": "2023-11-10T13:01:55.123834",
     "status": "completed"
    },
    "tags": []
   },
   "outputs": [
    {
     "data": {
      "text/html": [
       "<div>\n",
       "<style scoped>\n",
       "    .dataframe tbody tr th:only-of-type {\n",
       "        vertical-align: middle;\n",
       "    }\n",
       "\n",
       "    .dataframe tbody tr th {\n",
       "        vertical-align: top;\n",
       "    }\n",
       "\n",
       "    .dataframe thead th {\n",
       "        text-align: right;\n",
       "    }\n",
       "</style>\n",
       "<table border=\"1\" class=\"dataframe\">\n",
       "  <thead>\n",
       "    <tr style=\"text-align: right;\">\n",
       "      <th></th>\n",
       "      <th>geometry</th>\n",
       "    </tr>\n",
       "  </thead>\n",
       "  <tbody>\n",
       "    <tr>\n",
       "      <th>0</th>\n",
       "      <td>POLYGON Z ((-47.31048 -16.03602 0.00000, -47.3...</td>\n",
       "    </tr>\n",
       "  </tbody>\n",
       "</table>\n",
       "</div>"
      ],
      "text/plain": [
       "                                            geometry\n",
       "0  POLYGON Z ((-47.31048 -16.03602 0.00000, -47.3..."
      ]
     },
     "execution_count": 25,
     "metadata": {},
     "output_type": "execute_result"
    }
   ],
   "source": [
    "mapa = geopandas.read_file('distrito-federal.shp')\n",
    "mapa = mapa.loc[[0]]\n",
    "mapa.head()"
   ]
  },
  {
   "cell_type": "markdown",
   "id": "6750504a",
   "metadata": {
    "id": "w3oGh2ZmKZcE",
    "papermill": {
     "duration": 0.023573,
     "end_time": "2023-11-10T13:01:55.767688",
     "exception": false,
     "start_time": "2023-11-10T13:01:55.744115",
     "status": "completed"
    },
    "tags": []
   },
   "source": [
    "Mapa dos HUBs"
   ]
  },
  {
   "cell_type": "code",
   "execution_count": 26,
   "id": "e74c08a2",
   "metadata": {
    "execution": {
     "iopub.execute_input": "2023-11-10T13:01:55.815562Z",
     "iopub.status.busy": "2023-11-10T13:01:55.813747Z",
     "iopub.status.idle": "2023-11-10T13:01:55.965575Z",
     "shell.execute_reply": "2023-11-10T13:01:55.964380Z"
    },
    "id": "yoc1lg0rTdVb",
    "outputId": "f91a3896-a408-425c-c743-dc97f772ba2c",
    "papermill": {
     "duration": 0.179615,
     "end_time": "2023-11-10T13:01:55.968968",
     "exception": false,
     "start_time": "2023-11-10T13:01:55.789353",
     "status": "completed"
    },
    "tags": []
   },
   "outputs": [
    {
     "data": {
      "text/html": [
       "<div>\n",
       "<style scoped>\n",
       "    .dataframe tbody tr th:only-of-type {\n",
       "        vertical-align: middle;\n",
       "    }\n",
       "\n",
       "    .dataframe tbody tr th {\n",
       "        vertical-align: top;\n",
       "    }\n",
       "\n",
       "    .dataframe thead th {\n",
       "        text-align: right;\n",
       "    }\n",
       "</style>\n",
       "<table border=\"1\" class=\"dataframe\">\n",
       "  <thead>\n",
       "    <tr style=\"text-align: right;\">\n",
       "      <th></th>\n",
       "      <th>region</th>\n",
       "      <th>hub_lng</th>\n",
       "      <th>hub_lat</th>\n",
       "      <th>geometry</th>\n",
       "    </tr>\n",
       "  </thead>\n",
       "  <tbody>\n",
       "    <tr>\n",
       "      <th>0</th>\n",
       "      <td>df-2</td>\n",
       "      <td>-48.054989</td>\n",
       "      <td>-15.838145</td>\n",
       "      <td>POINT (-48.05499 -15.83814)</td>\n",
       "    </tr>\n",
       "    <tr>\n",
       "      <th>1</th>\n",
       "      <td>df-1</td>\n",
       "      <td>-47.893662</td>\n",
       "      <td>-15.805118</td>\n",
       "      <td>POINT (-47.89366 -15.80512)</td>\n",
       "    </tr>\n",
       "    <tr>\n",
       "      <th>2</th>\n",
       "      <td>df-0</td>\n",
       "      <td>-47.802665</td>\n",
       "      <td>-15.657014</td>\n",
       "      <td>POINT (-47.80266 -15.65701)</td>\n",
       "    </tr>\n",
       "  </tbody>\n",
       "</table>\n",
       "</div>"
      ],
      "text/plain": [
       "  region    hub_lng    hub_lat                     geometry\n",
       "0   df-2 -48.054989 -15.838145  POINT (-48.05499 -15.83814)\n",
       "1   df-1 -47.893662 -15.805118  POINT (-47.89366 -15.80512)\n",
       "2   df-0 -47.802665 -15.657014  POINT (-47.80266 -15.65701)"
      ]
     },
     "execution_count": 26,
     "metadata": {},
     "output_type": "execute_result"
    }
   ],
   "source": [
    "hub_df = deliveries_df[['region', 'hub_lng', 'hub_lat']].drop_duplicates().reset_index(drop=True)\n",
    "geo_hub_df = geopandas.GeoDataFrame(hub_df, geometry=geopandas.points_from_xy(hub_df['hub_lng'], hub_df['hub_lat']))\n",
    "geo_hub_df.head()"
   ]
  },
  {
   "cell_type": "markdown",
   "id": "90e6798d",
   "metadata": {
    "id": "6z4WDuPJKktA",
    "papermill": {
     "duration": 0.021776,
     "end_time": "2023-11-10T13:01:56.012239",
     "exception": false,
     "start_time": "2023-11-10T13:01:55.990463",
     "status": "completed"
    },
    "tags": []
   },
   "source": [
    "Mapa das entregas"
   ]
  },
  {
   "cell_type": "code",
   "execution_count": 27,
   "id": "87e4f37c",
   "metadata": {
    "execution": {
     "iopub.execute_input": "2023-11-10T13:01:56.057626Z",
     "iopub.status.busy": "2023-11-10T13:01:56.057129Z",
     "iopub.status.idle": "2023-11-10T13:02:31.941337Z",
     "shell.execute_reply": "2023-11-10T13:02:31.940010Z"
    },
    "id": "Ik75WViJUcZV",
    "outputId": "35514ea5-17f6-4b75-e4a7-add57993dc29",
    "papermill": {
     "duration": 35.93235,
     "end_time": "2023-11-10T13:02:31.965996",
     "exception": false,
     "start_time": "2023-11-10T13:01:56.033646",
     "status": "completed"
    },
    "tags": []
   },
   "outputs": [
    {
     "data": {
      "text/html": [
       "<div>\n",
       "<style scoped>\n",
       "    .dataframe tbody tr th:only-of-type {\n",
       "        vertical-align: middle;\n",
       "    }\n",
       "\n",
       "    .dataframe tbody tr th {\n",
       "        vertical-align: top;\n",
       "    }\n",
       "\n",
       "    .dataframe thead th {\n",
       "        text-align: right;\n",
       "    }\n",
       "</style>\n",
       "<table border=\"1\" class=\"dataframe\">\n",
       "  <thead>\n",
       "    <tr style=\"text-align: right;\">\n",
       "      <th></th>\n",
       "      <th>name</th>\n",
       "      <th>region</th>\n",
       "      <th>hub_lng</th>\n",
       "      <th>hub_lat</th>\n",
       "      <th>hub_city</th>\n",
       "      <th>hub_suburb</th>\n",
       "      <th>vehicle_capacity</th>\n",
       "      <th>delivery_id</th>\n",
       "      <th>delivery_size</th>\n",
       "      <th>delivery_lng</th>\n",
       "      <th>delivery_lat</th>\n",
       "      <th>delivery_city</th>\n",
       "      <th>delivery_suburb</th>\n",
       "      <th>geometry</th>\n",
       "    </tr>\n",
       "  </thead>\n",
       "  <tbody>\n",
       "    <tr>\n",
       "      <th>0</th>\n",
       "      <td>cvrp-2-df-33</td>\n",
       "      <td>df-2</td>\n",
       "      <td>-48.054989</td>\n",
       "      <td>-15.838145</td>\n",
       "      <td>Taguatinga</td>\n",
       "      <td>Taguatinga</td>\n",
       "      <td>180</td>\n",
       "      <td>313483a19d2f8d65cd5024c8d215cfbd</td>\n",
       "      <td>9</td>\n",
       "      <td>-48.116189</td>\n",
       "      <td>-15.848929</td>\n",
       "      <td>Ceilândia</td>\n",
       "      <td>P Sul</td>\n",
       "      <td>POINT (-48.11619 -15.84893)</td>\n",
       "    </tr>\n",
       "    <tr>\n",
       "      <th>1</th>\n",
       "      <td>cvrp-2-df-33</td>\n",
       "      <td>df-2</td>\n",
       "      <td>-48.054989</td>\n",
       "      <td>-15.838145</td>\n",
       "      <td>Taguatinga</td>\n",
       "      <td>Taguatinga</td>\n",
       "      <td>180</td>\n",
       "      <td>320c94b17aa685c939b3f3244c3099de</td>\n",
       "      <td>2</td>\n",
       "      <td>-48.118195</td>\n",
       "      <td>-15.850772</td>\n",
       "      <td>Ceilândia</td>\n",
       "      <td>P Sul</td>\n",
       "      <td>POINT (-48.11819 -15.85077)</td>\n",
       "    </tr>\n",
       "    <tr>\n",
       "      <th>2</th>\n",
       "      <td>cvrp-2-df-33</td>\n",
       "      <td>df-2</td>\n",
       "      <td>-48.054989</td>\n",
       "      <td>-15.838145</td>\n",
       "      <td>Taguatinga</td>\n",
       "      <td>Taguatinga</td>\n",
       "      <td>180</td>\n",
       "      <td>3663b42f4b8decb33059febaba46d5c8</td>\n",
       "      <td>1</td>\n",
       "      <td>-48.112483</td>\n",
       "      <td>-15.847871</td>\n",
       "      <td>Ceilândia</td>\n",
       "      <td>P Sul</td>\n",
       "      <td>POINT (-48.11248 -15.84787)</td>\n",
       "    </tr>\n",
       "    <tr>\n",
       "      <th>3</th>\n",
       "      <td>cvrp-2-df-33</td>\n",
       "      <td>df-2</td>\n",
       "      <td>-48.054989</td>\n",
       "      <td>-15.838145</td>\n",
       "      <td>Taguatinga</td>\n",
       "      <td>Taguatinga</td>\n",
       "      <td>180</td>\n",
       "      <td>e11ab58363c38d6abc90d5fba87b7d7</td>\n",
       "      <td>2</td>\n",
       "      <td>-48.118023</td>\n",
       "      <td>-15.846471</td>\n",
       "      <td>Ceilândia</td>\n",
       "      <td>P Sul</td>\n",
       "      <td>POINT (-48.11802 -15.84647)</td>\n",
       "    </tr>\n",
       "    <tr>\n",
       "      <th>4</th>\n",
       "      <td>cvrp-2-df-33</td>\n",
       "      <td>df-2</td>\n",
       "      <td>-48.054989</td>\n",
       "      <td>-15.838145</td>\n",
       "      <td>Taguatinga</td>\n",
       "      <td>Taguatinga</td>\n",
       "      <td>180</td>\n",
       "      <td>54cb45b7bbbd4e34e7150900f92d7f4b</td>\n",
       "      <td>7</td>\n",
       "      <td>-48.114898</td>\n",
       "      <td>-15.858055</td>\n",
       "      <td>Sol Nascente/Pôr do Sol</td>\n",
       "      <td>Sol Nascente/Pôr do Sol</td>\n",
       "      <td>POINT (-48.11490 -15.85805)</td>\n",
       "    </tr>\n",
       "  </tbody>\n",
       "</table>\n",
       "</div>"
      ],
      "text/plain": [
       "           name region    hub_lng    hub_lat    hub_city  hub_suburb  \\\n",
       "0  cvrp-2-df-33   df-2 -48.054989 -15.838145  Taguatinga  Taguatinga   \n",
       "1  cvrp-2-df-33   df-2 -48.054989 -15.838145  Taguatinga  Taguatinga   \n",
       "2  cvrp-2-df-33   df-2 -48.054989 -15.838145  Taguatinga  Taguatinga   \n",
       "3  cvrp-2-df-33   df-2 -48.054989 -15.838145  Taguatinga  Taguatinga   \n",
       "4  cvrp-2-df-33   df-2 -48.054989 -15.838145  Taguatinga  Taguatinga   \n",
       "\n",
       "   vehicle_capacity                       delivery_id  delivery_size  \\\n",
       "0               180  313483a19d2f8d65cd5024c8d215cfbd              9   \n",
       "1               180  320c94b17aa685c939b3f3244c3099de              2   \n",
       "2               180  3663b42f4b8decb33059febaba46d5c8              1   \n",
       "3               180   e11ab58363c38d6abc90d5fba87b7d7              2   \n",
       "4               180  54cb45b7bbbd4e34e7150900f92d7f4b              7   \n",
       "\n",
       "   delivery_lng  delivery_lat            delivery_city  \\\n",
       "0    -48.116189    -15.848929                Ceilândia   \n",
       "1    -48.118195    -15.850772                Ceilândia   \n",
       "2    -48.112483    -15.847871                Ceilândia   \n",
       "3    -48.118023    -15.846471                Ceilândia   \n",
       "4    -48.114898    -15.858055  Sol Nascente/Pôr do Sol   \n",
       "\n",
       "           delivery_suburb                     geometry  \n",
       "0                    P Sul  POINT (-48.11619 -15.84893)  \n",
       "1                    P Sul  POINT (-48.11819 -15.85077)  \n",
       "2                    P Sul  POINT (-48.11248 -15.84787)  \n",
       "3                    P Sul  POINT (-48.11802 -15.84647)  \n",
       "4  Sol Nascente/Pôr do Sol  POINT (-48.11490 -15.85805)  "
      ]
     },
     "execution_count": 27,
     "metadata": {},
     "output_type": "execute_result"
    }
   ],
   "source": [
    "geo_deliveries_df = geopandas.GeoDataFrame(deliveries_df, geometry=geopandas.points_from_xy(deliveries_df['delivery_lng'], deliveries_df['delivery_lat']))\n",
    "geo_deliveries_df.head()"
   ]
  },
  {
   "cell_type": "code",
   "execution_count": 28,
   "id": "fb289d7a",
   "metadata": {
    "execution": {
     "iopub.execute_input": "2023-11-10T13:02:32.012433Z",
     "iopub.status.busy": "2023-11-10T13:02:32.011847Z",
     "iopub.status.idle": "2023-11-10T13:03:36.643122Z",
     "shell.execute_reply": "2023-11-10T13:03:36.641833Z"
    },
    "id": "FXvcxfjxVDJi",
    "outputId": "a7a7c9a6-b0a3-4887-fd71-5e25057648a5",
    "papermill": {
     "duration": 64.662682,
     "end_time": "2023-11-10T13:03:36.650332",
     "exception": false,
     "start_time": "2023-11-10T13:02:31.987650",
     "status": "completed"
    },
    "tags": []
   },
   "outputs": [
    {
     "name": "stderr",
     "output_type": "stream",
     "text": [
      "/tmp/ipykernel_20/3843635757.py:18: MatplotlibDeprecationWarning: The legendHandles attribute was deprecated in Matplotlib 3.7 and will be removed two minor releases later. Use legend_handles instead.\n",
      "  for handle in lgnd.legendHandles:\n"
     ]
    },
    {
     "data": {
      "image/png": "[encoded data removed]",
      "text/plain": [
       "<Figure size 1968.5x1968.5 with 1 Axes>"
      ]
     },
     "metadata": {},
     "output_type": "display_data"
    }
   ],
   "source": [
    "# cria o plot vazio\n",
    "fig, ax = plt.subplots(figsize = (50/2.54, 50/2.54))\n",
    "\n",
    "# plot mapa do distrito federal\n",
    "mapa.plot(ax=ax, alpha=0.4, color=\"lightgrey\")\n",
    "\n",
    "# plot das entregas\n",
    "geo_deliveries_df.query(\"region == 'df-0'\").plot(ax=ax, markersize=10, color=\"red\", label=\"df-0\")\n",
    "geo_deliveries_df.query(\"region == 'df-1'\").plot(ax=ax, markersize=10, color=\"blue\", label=\"df-1\")\n",
    "geo_deliveries_df.query(\"region == 'df-2'\").plot(ax=ax, markersize=10, color=\"green\", label=\"df-2\")\n",
    "\n",
    "# plot dos hubs\n",
    "geo_hub_df.plot(ax=ax, markersize=100, marker=\"x\", color=\"black\", label=\"hub\")\n",
    "\n",
    "# plot da legenda\n",
    "plt.title(\"Entregas no Distrito Federal por Região\", fontdict={\"fontsize\": 16})\n",
    "lgnd = plt.legend(prop={\"size\": 15})\n",
    "for handle in lgnd.legendHandles:\n",
    "    handle.set_sizes([50])"
   ]
  },
  {
   "cell_type": "markdown",
   "id": "5fe048af",
   "metadata": {
    "id": "XJlxhNGjZ0vs",
    "papermill": {
     "duration": 0.028613,
     "end_time": "2023-11-10T13:03:36.707013",
     "exception": false,
     "start_time": "2023-11-10T13:03:36.678400",
     "status": "completed"
    },
    "tags": []
   },
   "source": [
    "Pode-se notar que há uma grande conscentração de entregas em poucos locais no df-1.\n",
    "No df-0 há uma grande dispersão das entregas abrengendo assim a maior área de cobertura.\n",
    "Já o df-2 é um meio termo dos dois antecedentes, há ma certa conscentração, mas também tem uma certa dispersão."
   ]
  },
  {
   "cell_type": "markdown",
   "id": "e522983a",
   "metadata": {
    "id": "fv4sHLFLZ0iC",
    "papermill": {
     "duration": 0.027349,
     "end_time": "2023-11-10T13:03:36.761945",
     "exception": false,
     "start_time": "2023-11-10T13:03:36.734596",
     "status": "completed"
    },
    "tags": []
   },
   "source": [
    "5.2 Gráfico de Barras"
   ]
  },
  {
   "cell_type": "code",
   "execution_count": 29,
   "id": "803aa329",
   "metadata": {
    "execution": {
     "iopub.execute_input": "2023-11-10T13:03:36.820535Z",
     "iopub.status.busy": "2023-11-10T13:03:36.820010Z",
     "iopub.status.idle": "2023-11-10T13:03:36.963664Z",
     "shell.execute_reply": "2023-11-10T13:03:36.962375Z"
    },
    "id": "RHHkahSMWS-e",
    "outputId": "1fb23b65-6227-41e4-951f-145eeabe8f38",
    "papermill": {
     "duration": 0.177322,
     "end_time": "2023-11-10T13:03:36.966755",
     "exception": false,
     "start_time": "2023-11-10T13:03:36.789433",
     "status": "completed"
    },
    "tags": []
   },
   "outputs": [
    {
     "data": {
      "text/html": [
       "<div>\n",
       "<style scoped>\n",
       "    .dataframe tbody tr th:only-of-type {\n",
       "        vertical-align: middle;\n",
       "    }\n",
       "\n",
       "    .dataframe tbody tr th {\n",
       "        vertical-align: top;\n",
       "    }\n",
       "\n",
       "    .dataframe thead th {\n",
       "        text-align: right;\n",
       "    }\n",
       "</style>\n",
       "<table border=\"1\" class=\"dataframe\">\n",
       "  <thead>\n",
       "    <tr style=\"text-align: right;\">\n",
       "      <th></th>\n",
       "      <th>region</th>\n",
       "      <th>vehicle_capacity</th>\n",
       "      <th>region_percent</th>\n",
       "    </tr>\n",
       "  </thead>\n",
       "  <tbody>\n",
       "    <tr>\n",
       "      <th>0</th>\n",
       "      <td>df-1</td>\n",
       "      <td>180</td>\n",
       "      <td>0.478988</td>\n",
       "    </tr>\n",
       "    <tr>\n",
       "      <th>1</th>\n",
       "      <td>df-2</td>\n",
       "      <td>180</td>\n",
       "      <td>0.410783</td>\n",
       "    </tr>\n",
       "    <tr>\n",
       "      <th>2</th>\n",
       "      <td>df-0</td>\n",
       "      <td>180</td>\n",
       "      <td>0.110229</td>\n",
       "    </tr>\n",
       "  </tbody>\n",
       "</table>\n",
       "</div>"
      ],
      "text/plain": [
       "  region  vehicle_capacity  region_percent\n",
       "0   df-1               180        0.478988\n",
       "1   df-2               180        0.410783\n",
       "2   df-0               180        0.110229"
      ]
     },
     "execution_count": 29,
     "metadata": {},
     "output_type": "execute_result"
    }
   ],
   "source": [
    "#criando um novo dataframe para o mapa\n",
    "data = pd.DataFrame(deliveries_df[['region', 'vehicle_capacity']].value_counts(normalize=True)).reset_index()\n",
    "data.rename(columns={'proportion':'region_percent'}, inplace=True)\n",
    "data.head()"
   ]
  },
  {
   "cell_type": "code",
   "execution_count": 30,
   "id": "941cc4e4",
   "metadata": {
    "execution": {
     "iopub.execute_input": "2023-11-10T13:03:37.024095Z",
     "iopub.status.busy": "2023-11-10T13:03:37.023538Z",
     "iopub.status.idle": "2023-11-10T13:03:37.386065Z",
     "shell.execute_reply": "2023-11-10T13:03:37.384783Z"
    },
    "id": "svHspIFlW9bC",
    "outputId": "0b240d8c-5c94-4b19-9bf1-c65a2c35831f",
    "papermill": {
     "duration": 0.39503,
     "end_time": "2023-11-10T13:03:37.389172",
     "exception": false,
     "start_time": "2023-11-10T13:03:36.994142",
     "status": "completed"
    },
    "tags": []
   },
   "outputs": [
    {
     "name": "stderr",
     "output_type": "stream",
     "text": [
      "/tmp/ipykernel_20/781639680.py:3: FutureWarning: \n",
      "\n",
      "The `ci` parameter is deprecated. Use `errorbar=None` for the same effect.\n",
      "\n",
      "  grafico = sns.barplot(data=data, x= 'region', y= 'region_percent', ci=None, palette=color)\n"
     ]
    },
    {
     "data": {
      "image/png": "[encoded data removed]",
      "text/plain": [
       "<Figure size 640x480 with 1 Axes>"
      ]
     },
     "metadata": {},
     "output_type": "display_data"
    }
   ],
   "source": [
    "with sns.axes_style('whitegrid'):\n",
    "  color = ['blue', 'green', 'red']\n",
    "  grafico = sns.barplot(data=data, x= 'region', y= 'region_percent', ci=None, palette=color)\n",
    "  grafico.set(title='proporção de entregas por região', xlabel='Região', ylabel='Proporção');"
   ]
  },
  {
   "cell_type": "markdown",
   "id": "065d4321",
   "metadata": {
    "id": "CFvXU09OZxRo",
    "papermill": {
     "duration": 0.027374,
     "end_time": "2023-11-10T13:03:37.443963",
     "exception": false,
     "start_time": "2023-11-10T13:03:37.416589",
     "status": "completed"
    },
    "tags": []
   },
   "source": [
    "Podemos ver que o df-1, que tem maior conscentrção de entregas por área, também tem a maior porcentagem de entregas, enquanto o df-0, que possui maior abragencia de entregas, corresponde a pouco mias de 10% das entregas totais."
   ]
  },
  {
   "cell_type": "markdown",
   "id": "7b37bd7d",
   "metadata": {
    "id": "PSIiQ3BHZycw",
    "papermill": {
     "duration": 0.027855,
     "end_time": "2023-11-10T13:03:37.499305",
     "exception": false,
     "start_time": "2023-11-10T13:03:37.471450",
     "status": "completed"
    },
    "tags": []
   },
   "source": [
    "5.3 Gráfico de distribuição das mercadorias"
   ]
  },
  {
   "cell_type": "code",
   "execution_count": 31,
   "id": "8c9d388f",
   "metadata": {
    "execution": {
     "iopub.execute_input": "2023-11-10T13:03:37.557940Z",
     "iopub.status.busy": "2023-11-10T13:03:37.557372Z",
     "iopub.status.idle": "2023-11-10T13:03:37.950304Z",
     "shell.execute_reply": "2023-11-10T13:03:37.948968Z"
    },
    "id": "bsvFjtHIX31t",
    "outputId": "c79c73d4-9151-49e6-b3fd-b0ab2e3675e2",
    "papermill": {
     "duration": 0.425877,
     "end_time": "2023-11-10T13:03:37.953803",
     "exception": false,
     "start_time": "2023-11-10T13:03:37.527926",
     "status": "completed"
    },
    "tags": []
   },
   "outputs": [
    {
     "data": {
      "image/png": "[encoded data removed]",
      "text/plain": [
       "<Figure size 640x480 with 1 Axes>"
      ]
     },
     "metadata": {},
     "output_type": "display_data"
    }
   ],
   "source": [
    "with sns.axes_style('whitegrid'):\n",
    "\n",
    "    plot = sns.boxplot(x=deliveries_df['delivery_size'])\n",
    "    plot.set(title='Distribuição dos tamanhos das mercadorias', xlabel='Tamanho ')"
   ]
  },
  {
   "cell_type": "markdown",
   "id": "e47f700e",
   "metadata": {
    "id": "I4RDhsKoZurm",
    "papermill": {
     "duration": 0.028303,
     "end_time": "2023-11-10T13:03:38.010451",
     "exception": false,
     "start_time": "2023-11-10T13:03:37.982148",
     "status": "completed"
    },
    "tags": []
   },
   "source": [
    "Podemos extrair que a mior parte das entregas tem o tamanho entre 3 e 8, com pucas fora desse intervalo, e tendo 6 como tamanho médio das compras."
   ]
  }
 ],
 "metadata": {
  "colab": {
   "provenance": []
  },
  "kaggle": {
   "accelerator": "none",
   "dataSources": [],
   "dockerImageVersionId": 30579,
   "isGpuEnabled": false,
   "isInternetEnabled": true,
   "language": "python",
   "sourceType": "notebook"
  },
  "kernelspec": {
   "display_name": "Python 3",
   "language": "python",
   "name": "python3"
  },
  "language_info": {
   "codemirror_mode": {
    "name": "ipython",
    "version": 3
   },
   "file_extension": ".py",
   "mimetype": "text/x-python",
   "name": "python",
   "nbconvert_exporter": "python",
   "pygments_lexer": "ipython3",
   "version": "3.10.12"
  },
  "papermill": {
   "default_parameters": {},
   "duration": 165.157619,
   "end_time": "2023-11-10T13:03:40.664765",
   "environment_variables": {},
   "exception": null,
   "input_path": "__notebook__.ipynb",
   "output_path": "__notebook__.ipynb",
   "parameters": {},
   "start_time": "2023-11-10T13:00:55.507146",
   "version": "2.4.0"
  }
 },
 "nbformat": 4,
 "nbformat_minor": 5
}
